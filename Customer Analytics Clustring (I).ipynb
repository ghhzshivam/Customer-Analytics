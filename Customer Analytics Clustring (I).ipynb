{
 "cells": [
  {
   "cell_type": "code",
   "execution_count": 1,
   "metadata": {},
   "outputs": [],
   "source": [
    "import numpy as np\n",
    "import pandas as pd\n",
    "import matplotlib.pyplot as plt\n",
    "import seaborn as sns\n",
    "import itertools\n",
    "import nltk\n",
    "\n",
    "# import wordcloud\n",
    "%matplotlib inline\n",
    "plt.style.use('fivethirtyeight')\n",
    "\n",
    "import warnings\n",
    "warnings.filterwarnings('ignore')"
   ]
  },
  {
   "cell_type": "code",
   "execution_count": 2,
   "metadata": {},
   "outputs": [
    {
     "name": "stderr",
     "output_type": "stream",
     "text": [
      "[nltk_data] Error loading punkt: <urlopen error [Errno -3] Temporary\n",
      "[nltk_data]     failure in name resolution>\n",
      "[nltk_data] Error loading averaged_perceptron_tagger: <urlopen error\n",
      "[nltk_data]     [Errno -3] Temporary failure in name resolution>\n"
     ]
    },
    {
     "data": {
      "text/plain": [
       "False"
      ]
     },
     "execution_count": 2,
     "metadata": {},
     "output_type": "execute_result"
    }
   ],
   "source": [
    "nltk.download('punkt')\n",
    "nltk.download('averaged_perceptron_tagger')"
   ]
  },
  {
   "cell_type": "code",
   "execution_count": 3,
   "metadata": {},
   "outputs": [
    {
     "data": {
      "text/html": [
       "<div>\n",
       "<style scoped>\n",
       "    .dataframe tbody tr th:only-of-type {\n",
       "        vertical-align: middle;\n",
       "    }\n",
       "\n",
       "    .dataframe tbody tr th {\n",
       "        vertical-align: top;\n",
       "    }\n",
       "\n",
       "    .dataframe thead th {\n",
       "        text-align: right;\n",
       "    }\n",
       "</style>\n",
       "<table border=\"1\" class=\"dataframe\">\n",
       "  <thead>\n",
       "    <tr style=\"text-align: right;\">\n",
       "      <th></th>\n",
       "      <th>InvoiceNo</th>\n",
       "      <th>StockCode</th>\n",
       "      <th>Description</th>\n",
       "      <th>Quantity</th>\n",
       "      <th>InvoiceDate</th>\n",
       "      <th>UnitPrice</th>\n",
       "      <th>CustomerID</th>\n",
       "      <th>Country</th>\n",
       "    </tr>\n",
       "  </thead>\n",
       "  <tbody>\n",
       "    <tr>\n",
       "      <th>0</th>\n",
       "      <td>536365</td>\n",
       "      <td>85123A</td>\n",
       "      <td>WHITE HANGING HEART T-LIGHT HOLDER</td>\n",
       "      <td>6</td>\n",
       "      <td>2010-12-01 08:26:00</td>\n",
       "      <td>2.55</td>\n",
       "      <td>17850.0</td>\n",
       "      <td>United Kingdom</td>\n",
       "    </tr>\n",
       "    <tr>\n",
       "      <th>1</th>\n",
       "      <td>536365</td>\n",
       "      <td>71053</td>\n",
       "      <td>WHITE METAL LANTERN</td>\n",
       "      <td>6</td>\n",
       "      <td>2010-12-01 08:26:00</td>\n",
       "      <td>3.39</td>\n",
       "      <td>17850.0</td>\n",
       "      <td>United Kingdom</td>\n",
       "    </tr>\n",
       "    <tr>\n",
       "      <th>2</th>\n",
       "      <td>536365</td>\n",
       "      <td>84406B</td>\n",
       "      <td>CREAM CUPID HEARTS COAT HANGER</td>\n",
       "      <td>8</td>\n",
       "      <td>2010-12-01 08:26:00</td>\n",
       "      <td>2.75</td>\n",
       "      <td>17850.0</td>\n",
       "      <td>United Kingdom</td>\n",
       "    </tr>\n",
       "  </tbody>\n",
       "</table>\n",
       "</div>"
      ],
      "text/plain": [
       "  InvoiceNo StockCode                         Description  Quantity  \\\n",
       "0    536365    85123A  WHITE HANGING HEART T-LIGHT HOLDER         6   \n",
       "1    536365     71053                 WHITE METAL LANTERN         6   \n",
       "2    536365    84406B      CREAM CUPID HEARTS COAT HANGER         8   \n",
       "\n",
       "          InvoiceDate  UnitPrice  CustomerID         Country  \n",
       "0 2010-12-01 08:26:00       2.55     17850.0  United Kingdom  \n",
       "1 2010-12-01 08:26:00       3.39     17850.0  United Kingdom  \n",
       "2 2010-12-01 08:26:00       2.75     17850.0  United Kingdom  "
      ]
     },
     "execution_count": 3,
     "metadata": {},
     "output_type": "execute_result"
    }
   ],
   "source": [
    "data = pd.read_excel(\"Data/Online Retail.xlsx\", dtype = {'StockCode':str})\n",
    "data.head(3)"
   ]
  },
  {
   "cell_type": "code",
   "execution_count": 4,
   "metadata": {},
   "outputs": [
    {
     "data": {
      "text/plain": [
       "(541909, 8)"
      ]
     },
     "execution_count": 4,
     "metadata": {},
     "output_type": "execute_result"
    }
   ],
   "source": [
    "data.shape"
   ]
  },
  {
   "cell_type": "markdown",
   "metadata": {},
   "source": [
    "# Data Preprocessing"
   ]
  },
  {
   "cell_type": "code",
   "execution_count": 5,
   "metadata": {},
   "outputs": [
    {
     "data": {
      "text/html": [
       "<div>\n",
       "<style scoped>\n",
       "    .dataframe tbody tr th:only-of-type {\n",
       "        vertical-align: middle;\n",
       "    }\n",
       "\n",
       "    .dataframe tbody tr th {\n",
       "        vertical-align: top;\n",
       "    }\n",
       "\n",
       "    .dataframe thead th {\n",
       "        text-align: right;\n",
       "    }\n",
       "</style>\n",
       "<table border=\"1\" class=\"dataframe\">\n",
       "  <thead>\n",
       "    <tr style=\"text-align: right;\">\n",
       "      <th></th>\n",
       "      <th>InvoiceNo</th>\n",
       "      <th>StockCode</th>\n",
       "      <th>Description</th>\n",
       "      <th>Quantity</th>\n",
       "      <th>InvoiceDate</th>\n",
       "      <th>UnitPrice</th>\n",
       "      <th>CustomerID</th>\n",
       "      <th>Country</th>\n",
       "    </tr>\n",
       "  </thead>\n",
       "  <tbody>\n",
       "    <tr>\n",
       "      <th>Null values</th>\n",
       "      <td>0.0</td>\n",
       "      <td>0.0</td>\n",
       "      <td>1454.000000</td>\n",
       "      <td>0.0</td>\n",
       "      <td>0.0</td>\n",
       "      <td>0.0</td>\n",
       "      <td>135080.000000</td>\n",
       "      <td>0.0</td>\n",
       "    </tr>\n",
       "    <tr>\n",
       "      <th>% Null values</th>\n",
       "      <td>0.0</td>\n",
       "      <td>0.0</td>\n",
       "      <td>0.268311</td>\n",
       "      <td>0.0</td>\n",
       "      <td>0.0</td>\n",
       "      <td>0.0</td>\n",
       "      <td>24.926694</td>\n",
       "      <td>0.0</td>\n",
       "    </tr>\n",
       "  </tbody>\n",
       "</table>\n",
       "</div>"
      ],
      "text/plain": [
       "               InvoiceNo  StockCode  Description  Quantity  InvoiceDate  \\\n",
       "Null values          0.0        0.0  1454.000000       0.0          0.0   \n",
       "% Null values        0.0        0.0     0.268311       0.0          0.0   \n",
       "\n",
       "               UnitPrice     CustomerID  Country  \n",
       "Null values          0.0  135080.000000      0.0  \n",
       "% Null values        0.0      24.926694      0.0  "
      ]
     },
     "execution_count": 5,
     "metadata": {},
     "output_type": "execute_result"
    }
   ],
   "source": [
    "null_val = pd.DataFrame(data = data.isnull().sum(),columns = ['Null values'] )\n",
    "null_val['% Null values'] = null_val/data.shape[0]*100\n",
    "null_val.T"
   ]
  },
  {
   "cell_type": "markdown",
   "metadata": {},
   "source": [
    "> Since we don't have CustomerID for 25% customers we will remove the  customerid column as we cannot give them any arbitary values."
   ]
  },
  {
   "cell_type": "code",
   "execution_count": 6,
   "metadata": {},
   "outputs": [],
   "source": [
    "# Removing nall rows having customerID null\n",
    "data.dropna(axis = 0, subset = ['CustomerID'], inplace = True)"
   ]
  },
  {
   "cell_type": "code",
   "execution_count": 7,
   "metadata": {},
   "outputs": [
    {
     "data": {
      "text/plain": [
       "5225"
      ]
     },
     "execution_count": 7,
     "metadata": {},
     "output_type": "execute_result"
    }
   ],
   "source": [
    "# checking for duplicacy in data\n",
    "data.duplicated().sum()"
   ]
  },
  {
   "cell_type": "code",
   "execution_count": 8,
   "metadata": {},
   "outputs": [
    {
     "data": {
      "text/plain": [
       "0"
      ]
     },
     "execution_count": 8,
     "metadata": {},
     "output_type": "execute_result"
    }
   ],
   "source": [
    "# Droping the duplicated entries\n",
    "data.drop_duplicates(inplace = True)\n",
    "data.duplicated().sum()"
   ]
  },
  {
   "cell_type": "markdown",
   "metadata": {},
   "source": [
    "# Exploratory Data Analysis (EDA)"
   ]
  },
  {
   "cell_type": "code",
   "execution_count": 9,
   "metadata": {},
   "outputs": [
    {
     "data": {
      "image/png": "[encoded data removed]",
      "text/plain": [
       "<Figure size 1008x432 with 1 Axes>"
      ]
     },
     "metadata": {},
     "output_type": "display_data"
    }
   ],
   "source": [
    "plt.figure(figsize=(14, 6))\n",
    "country_counts = data['Country'].value_counts()\n",
    "plt.bar(country_counts.index, country_counts.values)\n",
    "plt.xticks(rotation=90, fontsize=14)\n",
    "plt.title(\"Number of transactions done for each country\")\n",
    "plt.ylabel(\"No. of transactions\")\n",
    "plt.xlabel(\"Country\")\n",
    "plt.show()\n"
   ]
  },
  {
   "cell_type": "code",
   "execution_count": 10,
   "metadata": {},
   "outputs": [
    {
     "data": {
      "text/html": [
       "<div>\n",
       "<style scoped>\n",
       "    .dataframe tbody tr th:only-of-type {\n",
       "        vertical-align: middle;\n",
       "    }\n",
       "\n",
       "    .dataframe tbody tr th {\n",
       "        vertical-align: top;\n",
       "    }\n",
       "\n",
       "    .dataframe thead th {\n",
       "        text-align: right;\n",
       "    }\n",
       "</style>\n",
       "<table border=\"1\" class=\"dataframe\">\n",
       "  <thead>\n",
       "    <tr style=\"text-align: right;\">\n",
       "      <th></th>\n",
       "      <th>Australia</th>\n",
       "      <th>Austria</th>\n",
       "      <th>Bahrain</th>\n",
       "      <th>Belgium</th>\n",
       "      <th>Brazil</th>\n",
       "      <th>Canada</th>\n",
       "      <th>Channel Islands</th>\n",
       "      <th>Cyprus</th>\n",
       "      <th>Czech Republic</th>\n",
       "      <th>Denmark</th>\n",
       "      <th>...</th>\n",
       "      <th>RSA</th>\n",
       "      <th>Saudi Arabia</th>\n",
       "      <th>Singapore</th>\n",
       "      <th>Spain</th>\n",
       "      <th>Sweden</th>\n",
       "      <th>Switzerland</th>\n",
       "      <th>USA</th>\n",
       "      <th>United Arab Emirates</th>\n",
       "      <th>United Kingdom</th>\n",
       "      <th>Unspecified</th>\n",
       "    </tr>\n",
       "  </thead>\n",
       "  <tbody>\n",
       "    <tr>\n",
       "      <th>InvoiceNo</th>\n",
       "      <td>69</td>\n",
       "      <td>19</td>\n",
       "      <td>2</td>\n",
       "      <td>119</td>\n",
       "      <td>1</td>\n",
       "      <td>6</td>\n",
       "      <td>33</td>\n",
       "      <td>20</td>\n",
       "      <td>5</td>\n",
       "      <td>21</td>\n",
       "      <td>...</td>\n",
       "      <td>1</td>\n",
       "      <td>2</td>\n",
       "      <td>10</td>\n",
       "      <td>105</td>\n",
       "      <td>46</td>\n",
       "      <td>71</td>\n",
       "      <td>7</td>\n",
       "      <td>3</td>\n",
       "      <td>19857</td>\n",
       "      <td>8</td>\n",
       "    </tr>\n",
       "  </tbody>\n",
       "</table>\n",
       "<p>1 rows × 37 columns</p>\n",
       "</div>"
      ],
      "text/plain": [
       "           Australia  Austria  Bahrain  Belgium  Brazil  Canada  \\\n",
       "InvoiceNo         69       19        2      119       1       6   \n",
       "\n",
       "           Channel Islands  Cyprus  Czech Republic  Denmark  ...  RSA  \\\n",
       "InvoiceNo               33      20               5       21  ...    1   \n",
       "\n",
       "           Saudi Arabia  Singapore  Spain  Sweden  Switzerland  USA  \\\n",
       "InvoiceNo             2         10    105      46           71    7   \n",
       "\n",
       "           United Arab Emirates  United Kingdom  Unspecified  \n",
       "InvoiceNo                     3           19857            8  \n",
       "\n",
       "[1 rows x 37 columns]"
      ]
     },
     "execution_count": 10,
     "metadata": {},
     "output_type": "execute_result"
    }
   ],
   "source": [
    "total_trans  = pd.DataFrame(data = data.groupby(['Country'])['InvoiceNo'].nunique(), index = data.groupby(['Country']).groups.keys()).T\n",
    "total_trans"
   ]
  },
  {
   "cell_type": "markdown",
   "metadata": {},
   "source": [
    "Conclusions \n",
    "1. UK has done most of the transanctions. (19857)\n",
    "2. Least amount of transanctions were made by countries like Brazil, RSA etc. (only 1)"
   ]
  },
  {
   "cell_type": "code",
   "execution_count": 11,
   "metadata": {},
   "outputs": [
    {
     "name": "stdout",
     "output_type": "stream",
     "text": [
      "Totala no of products:  3684\n"
     ]
    }
   ],
   "source": [
    "# Total no of different products that were sold in the year data was collected.\n",
    "print(\"Totala no of products: \", len(data['StockCode'].value_counts()))"
   ]
  },
  {
   "cell_type": "code",
   "execution_count": 12,
   "metadata": {},
   "outputs": [
    {
     "name": "stdout",
     "output_type": "stream",
     "text": [
      "Total no of Transactions: 22190\n"
     ]
    }
   ],
   "source": [
    "# Total no of different transactions were done\n",
    "print(\"Total no of Transactions:\", len(data['InvoiceNo'].value_counts()))"
   ]
  },
  {
   "cell_type": "code",
   "execution_count": 13,
   "metadata": {},
   "outputs": [
    {
     "name": "stdout",
     "output_type": "stream",
     "text": [
      "Total no of Customers: 4372\n"
     ]
    }
   ],
   "source": [
    "# Total no of different customers.\n",
    "print(\"Total no of Customers:\", len(data['CustomerID'].value_counts()))"
   ]
  },
  {
   "cell_type": "markdown",
   "metadata": {},
   "source": [
    "Conclusion\n",
    "\n",
    "There are 22k transanctions but only 4.4k customers with 3.7k products. It seems that some orders were placed then cancelled or the customers bought items multiple times or multiple items were bought in a single transanction."
   ]
  },
  {
   "cell_type": "code",
   "execution_count": 14,
   "metadata": {},
   "outputs": [
    {
     "data": {
      "text/html": [
       "<div>\n",
       "<style scoped>\n",
       "    .dataframe tbody tr th:only-of-type {\n",
       "        vertical-align: middle;\n",
       "    }\n",
       "\n",
       "    .dataframe tbody tr th {\n",
       "        vertical-align: top;\n",
       "    }\n",
       "\n",
       "    .dataframe thead th {\n",
       "        text-align: right;\n",
       "    }\n",
       "</style>\n",
       "<table border=\"1\" class=\"dataframe\">\n",
       "  <thead>\n",
       "    <tr style=\"text-align: right;\">\n",
       "      <th></th>\n",
       "      <th>CustomerID</th>\n",
       "      <th>InvoiceNo</th>\n",
       "      <th>No of products</th>\n",
       "    </tr>\n",
       "  </thead>\n",
       "  <tbody>\n",
       "    <tr>\n",
       "      <th>0</th>\n",
       "      <td>12346.0</td>\n",
       "      <td>541431</td>\n",
       "      <td>1</td>\n",
       "    </tr>\n",
       "    <tr>\n",
       "      <th>1</th>\n",
       "      <td>12346.0</td>\n",
       "      <td>C541433</td>\n",
       "      <td>1</td>\n",
       "    </tr>\n",
       "    <tr>\n",
       "      <th>2</th>\n",
       "      <td>12347.0</td>\n",
       "      <td>537626</td>\n",
       "      <td>31</td>\n",
       "    </tr>\n",
       "    <tr>\n",
       "      <th>3</th>\n",
       "      <td>12347.0</td>\n",
       "      <td>542237</td>\n",
       "      <td>29</td>\n",
       "    </tr>\n",
       "    <tr>\n",
       "      <th>4</th>\n",
       "      <td>12347.0</td>\n",
       "      <td>549222</td>\n",
       "      <td>24</td>\n",
       "    </tr>\n",
       "    <tr>\n",
       "      <th>5</th>\n",
       "      <td>12347.0</td>\n",
       "      <td>556201</td>\n",
       "      <td>18</td>\n",
       "    </tr>\n",
       "    <tr>\n",
       "      <th>6</th>\n",
       "      <td>12347.0</td>\n",
       "      <td>562032</td>\n",
       "      <td>22</td>\n",
       "    </tr>\n",
       "    <tr>\n",
       "      <th>7</th>\n",
       "      <td>12347.0</td>\n",
       "      <td>573511</td>\n",
       "      <td>47</td>\n",
       "    </tr>\n",
       "    <tr>\n",
       "      <th>8</th>\n",
       "      <td>12347.0</td>\n",
       "      <td>581180</td>\n",
       "      <td>11</td>\n",
       "    </tr>\n",
       "    <tr>\n",
       "      <th>9</th>\n",
       "      <td>12348.0</td>\n",
       "      <td>539318</td>\n",
       "      <td>17</td>\n",
       "    </tr>\n",
       "  </tbody>\n",
       "</table>\n",
       "</div>"
      ],
      "text/plain": [
       "   CustomerID InvoiceNo  No of products\n",
       "0     12346.0    541431               1\n",
       "1     12346.0   C541433               1\n",
       "2     12347.0    537626              31\n",
       "3     12347.0    542237              29\n",
       "4     12347.0    549222              24\n",
       "5     12347.0    556201              18\n",
       "6     12347.0    562032              22\n",
       "7     12347.0    573511              47\n",
       "8     12347.0    581180              11\n",
       "9     12348.0    539318              17"
      ]
     },
     "execution_count": 14,
     "metadata": {},
     "output_type": "execute_result"
    }
   ],
   "source": [
    "df = data.groupby(['CustomerID', 'InvoiceNo'], as_index = False)['InvoiceDate'].count().rename(columns= {'InvoiceDate':'No of products'})\n",
    "df[:10].sort_values(['CustomerID'])"
   ]
  },
  {
   "cell_type": "markdown",
   "metadata": {},
   "source": [
    "Conclusion\n",
    "1)  There are customers who purchase only 1 item per transanction and others who purchase many items per transanction.\n",
    "2) There are some orders which were cancelled they are marked with 'C' in the beginning."
   ]
  },
  {
   "cell_type": "code",
   "execution_count": 15,
   "metadata": {},
   "outputs": [
    {
     "name": "stdout",
     "output_type": "stream",
     "text": [
      "Number of orders cancelled 3654/22190 (16.47%)\n"
     ]
    }
   ],
   "source": [
    "# Counting the number of cancelled transactions\n",
    "df['orders cancelled'] = df['InvoiceNo'].apply(lambda x: int(\"C\" in str(x)))\n",
    "\n",
    "# Printing number of orders cancelled ->\n",
    "print(\"Number of orders cancelled {}/{} ({:.2f}%)\".format(df['orders cancelled'].sum(), df.shape[0], df['orders cancelled'].sum()/ df.shape[0] * 100))"
   ]
  },
  {
   "cell_type": "code",
   "execution_count": 16,
   "metadata": {},
   "outputs": [
    {
     "data": {
      "text/html": [
       "<div>\n",
       "<style scoped>\n",
       "    .dataframe tbody tr th:only-of-type {\n",
       "        vertical-align: middle;\n",
       "    }\n",
       "\n",
       "    .dataframe tbody tr th {\n",
       "        vertical-align: top;\n",
       "    }\n",
       "\n",
       "    .dataframe thead th {\n",
       "        text-align: right;\n",
       "    }\n",
       "</style>\n",
       "<table border=\"1\" class=\"dataframe\">\n",
       "  <thead>\n",
       "    <tr style=\"text-align: right;\">\n",
       "      <th></th>\n",
       "      <th>InvoiceNo</th>\n",
       "      <th>StockCode</th>\n",
       "      <th>Description</th>\n",
       "      <th>Quantity</th>\n",
       "      <th>InvoiceDate</th>\n",
       "      <th>UnitPrice</th>\n",
       "      <th>CustomerID</th>\n",
       "      <th>Country</th>\n",
       "    </tr>\n",
       "  </thead>\n",
       "  <tbody>\n",
       "    <tr>\n",
       "      <th>61619</th>\n",
       "      <td>541431</td>\n",
       "      <td>23166</td>\n",
       "      <td>MEDIUM CERAMIC TOP STORAGE JAR</td>\n",
       "      <td>74215</td>\n",
       "      <td>2011-01-18 10:01:00</td>\n",
       "      <td>1.04</td>\n",
       "      <td>12346.0</td>\n",
       "      <td>United Kingdom</td>\n",
       "    </tr>\n",
       "    <tr>\n",
       "      <th>61624</th>\n",
       "      <td>C541433</td>\n",
       "      <td>23166</td>\n",
       "      <td>MEDIUM CERAMIC TOP STORAGE JAR</td>\n",
       "      <td>-74215</td>\n",
       "      <td>2011-01-18 10:17:00</td>\n",
       "      <td>1.04</td>\n",
       "      <td>12346.0</td>\n",
       "      <td>United Kingdom</td>\n",
       "    </tr>\n",
       "    <tr>\n",
       "      <th>286623</th>\n",
       "      <td>562032</td>\n",
       "      <td>22375</td>\n",
       "      <td>AIRLINE BAG VINTAGE JET SET BROWN</td>\n",
       "      <td>4</td>\n",
       "      <td>2011-08-02 08:48:00</td>\n",
       "      <td>4.25</td>\n",
       "      <td>12347.0</td>\n",
       "      <td>Iceland</td>\n",
       "    </tr>\n",
       "    <tr>\n",
       "      <th>72260</th>\n",
       "      <td>542237</td>\n",
       "      <td>84991</td>\n",
       "      <td>60 TEATIME FAIRY CAKE CASES</td>\n",
       "      <td>24</td>\n",
       "      <td>2011-01-26 14:30:00</td>\n",
       "      <td>0.55</td>\n",
       "      <td>12347.0</td>\n",
       "      <td>Iceland</td>\n",
       "    </tr>\n",
       "    <tr>\n",
       "      <th>14943</th>\n",
       "      <td>537626</td>\n",
       "      <td>22772</td>\n",
       "      <td>PINK DRAWER KNOB ACRYLIC EDWARDIAN</td>\n",
       "      <td>12</td>\n",
       "      <td>2010-12-07 14:57:00</td>\n",
       "      <td>1.25</td>\n",
       "      <td>12347.0</td>\n",
       "      <td>Iceland</td>\n",
       "    </tr>\n",
       "  </tbody>\n",
       "</table>\n",
       "</div>"
      ],
      "text/plain": [
       "       InvoiceNo StockCode                         Description  Quantity  \\\n",
       "61619     541431     23166      MEDIUM CERAMIC TOP STORAGE JAR     74215   \n",
       "61624    C541433     23166      MEDIUM CERAMIC TOP STORAGE JAR    -74215   \n",
       "286623    562032     22375   AIRLINE BAG VINTAGE JET SET BROWN         4   \n",
       "72260     542237     84991         60 TEATIME FAIRY CAKE CASES        24   \n",
       "14943     537626     22772  PINK DRAWER KNOB ACRYLIC EDWARDIAN        12   \n",
       "\n",
       "               InvoiceDate  UnitPrice  CustomerID         Country  \n",
       "61619  2011-01-18 10:01:00       1.04     12346.0  United Kingdom  \n",
       "61624  2011-01-18 10:17:00       1.04     12346.0  United Kingdom  \n",
       "286623 2011-08-02 08:48:00       4.25     12347.0         Iceland  \n",
       "72260  2011-01-26 14:30:00       0.55     12347.0         Iceland  \n",
       "14943  2010-12-07 14:57:00       1.25     12347.0         Iceland  "
      ]
     },
     "execution_count": 16,
     "metadata": {},
     "output_type": "execute_result"
    }
   ],
   "source": [
    "# Looking at cancelled transanctions in original data.\n",
    "data.sort_values('CustomerID')[:5]"
   ]
  },
  {
   "cell_type": "markdown",
   "metadata": {},
   "source": [
    "Conclusion\n",
    "\n",
    "To cancel a order a new transaction has to be started with different InvoiceNo, With negative quantity and every other description is same . We can use this to remove the cancelled orders"
   ]
  },
  {
   "cell_type": "code",
   "execution_count": 17,
   "metadata": {},
   "outputs": [
    {
     "data": {
      "text/html": [
       "<div>\n",
       "<style scoped>\n",
       "    .dataframe tbody tr th:only-of-type {\n",
       "        vertical-align: middle;\n",
       "    }\n",
       "\n",
       "    .dataframe tbody tr th {\n",
       "        vertical-align: top;\n",
       "    }\n",
       "\n",
       "    .dataframe thead th {\n",
       "        text-align: right;\n",
       "    }\n",
       "</style>\n",
       "<table border=\"1\" class=\"dataframe\">\n",
       "  <thead>\n",
       "    <tr style=\"text-align: right;\">\n",
       "      <th></th>\n",
       "      <th>InvoiceNo</th>\n",
       "      <th>StockCode</th>\n",
       "      <th>Description</th>\n",
       "      <th>Quantity</th>\n",
       "      <th>InvoiceDate</th>\n",
       "      <th>UnitPrice</th>\n",
       "      <th>CustomerID</th>\n",
       "      <th>Country</th>\n",
       "    </tr>\n",
       "  </thead>\n",
       "  <tbody>\n",
       "    <tr>\n",
       "      <th>141</th>\n",
       "      <td>C536379</td>\n",
       "      <td>D</td>\n",
       "      <td>Discount</td>\n",
       "      <td>-1</td>\n",
       "      <td>2010-12-01 09:41:00</td>\n",
       "      <td>27.50</td>\n",
       "      <td>14527.0</td>\n",
       "      <td>United Kingdom</td>\n",
       "    </tr>\n",
       "    <tr>\n",
       "      <th>9038</th>\n",
       "      <td>C537164</td>\n",
       "      <td>D</td>\n",
       "      <td>Discount</td>\n",
       "      <td>-1</td>\n",
       "      <td>2010-12-05 13:21:00</td>\n",
       "      <td>29.29</td>\n",
       "      <td>14527.0</td>\n",
       "      <td>United Kingdom</td>\n",
       "    </tr>\n",
       "    <tr>\n",
       "      <th>14498</th>\n",
       "      <td>C537597</td>\n",
       "      <td>D</td>\n",
       "      <td>Discount</td>\n",
       "      <td>-1</td>\n",
       "      <td>2010-12-07 12:34:00</td>\n",
       "      <td>281.00</td>\n",
       "      <td>15498.0</td>\n",
       "      <td>United Kingdom</td>\n",
       "    </tr>\n",
       "    <tr>\n",
       "      <th>19392</th>\n",
       "      <td>C537857</td>\n",
       "      <td>D</td>\n",
       "      <td>Discount</td>\n",
       "      <td>-1</td>\n",
       "      <td>2010-12-08 16:00:00</td>\n",
       "      <td>267.12</td>\n",
       "      <td>17340.0</td>\n",
       "      <td>United Kingdom</td>\n",
       "    </tr>\n",
       "    <tr>\n",
       "      <th>31134</th>\n",
       "      <td>C538897</td>\n",
       "      <td>D</td>\n",
       "      <td>Discount</td>\n",
       "      <td>-1</td>\n",
       "      <td>2010-12-15 09:14:00</td>\n",
       "      <td>5.76</td>\n",
       "      <td>16422.0</td>\n",
       "      <td>United Kingdom</td>\n",
       "    </tr>\n",
       "  </tbody>\n",
       "</table>\n",
       "</div>"
      ],
      "text/plain": [
       "      InvoiceNo StockCode Description  Quantity         InvoiceDate  \\\n",
       "141     C536379         D    Discount        -1 2010-12-01 09:41:00   \n",
       "9038    C537164         D    Discount        -1 2010-12-05 13:21:00   \n",
       "14498   C537597         D    Discount        -1 2010-12-07 12:34:00   \n",
       "19392   C537857         D    Discount        -1 2010-12-08 16:00:00   \n",
       "31134   C538897         D    Discount        -1 2010-12-15 09:14:00   \n",
       "\n",
       "       UnitPrice  CustomerID         Country  \n",
       "141        27.50     14527.0  United Kingdom  \n",
       "9038       29.29     14527.0  United Kingdom  \n",
       "14498     281.00     15498.0  United Kingdom  \n",
       "19392     267.12     17340.0  United Kingdom  \n",
       "31134       5.76     16422.0  United Kingdom  "
      ]
     },
     "execution_count": 17,
     "metadata": {},
     "output_type": "execute_result"
    }
   ],
   "source": [
    "# Checking for discounted products\n",
    "\n",
    "df = data[data['Description'] == 'Discount']\n",
    "df.head()"
   ]
  },
  {
   "cell_type": "markdown",
   "metadata": {},
   "source": [
    "So there are some discounted transanctions too but they appear to be cancelled."
   ]
  },
  {
   "cell_type": "markdown",
   "metadata": {},
   "source": [
    "##### Checking and dropping cancelled orders"
   ]
  },
  {
   "cell_type": "code",
   "execution_count": 18,
   "metadata": {},
   "outputs": [],
   "source": [
    "# Removing cancelled orders\n",
    "\n",
    "df_cleaned = data.copy(deep=True)\n",
    "\n",
    "# Add a new column to track cancelled quantities\n",
    "df_cleaned['QuantityCancelled'] = 0\n",
    "\n",
    "# Lists to store indices of entries to remove and doubtful entries\n",
    "entry_to_remove = []\n",
    "doubtfull_entry = []\n",
    "\n",
    "for index, col in data.iterrows():\n",
    "    # Skip entries with positive quantity or those representing discounts\n",
    "    if(col['Quantity'] > 0)or(col['Description']=='Discount'):\n",
    "        continue\n",
    "\n",
    "    # Extract data for potential cancelled orders\n",
    "    df_test = data[(data['CustomerID']==col['CustomerID'])&(data['StockCode']==col['StockCode'])&\n",
    "                   (data['InvoiceDate']<col['InvoiceDate'])&(data['Quantity']>0)].copy()\n",
    "    \n",
    "    # Order cancelled without counterpart, these are doubtful as they maybe errors or maybe orders were placed before data given\n",
    "    if(df_test.shape[0] == 0):\n",
    "        doubtfull_entry.append(index)\n",
    "    \n",
    "    # Cancellation with single counterpart\n",
    "    elif(df_test.shape[0] == 1):\n",
    "        index_order = df_test.index[0]\n",
    "        df_cleaned.loc[index_order, 'QuantityCancelled'] = -col['Quantity']\n",
    "        entry_to_remove.append(index)\n",
    "        \n",
    "    # Various counterpart exists for orders\n",
    "    elif(df_test.shape[0] > 1):\n",
    "        df_test.sort_index(axis = 0, ascending=False, inplace=True)\n",
    "        for ind, val in df_test.iterrows():\n",
    "            # Check if the counterpart quantity is sufficient to cancel the original order\n",
    "            if val['Quantity'] < -col['Quantity']:\n",
    "                continue\n",
    "            df_cleaned.loc[ind, 'QuantityCancelled'] = -col['Quantity']\n",
    "            entry_to_remove.append(index)\n",
    "            break"
   ]
  },
  {
   "cell_type": "code",
   "execution_count": 19,
   "metadata": {},
   "outputs": [
    {
     "name": "stdout",
     "output_type": "stream",
     "text": [
      "Entry to remove 7521\n",
      "Doubtfull Entry 1226\n"
     ]
    }
   ],
   "source": [
    "print(\"Entry to remove {}\".format(len(entry_to_remove)))\n",
    "print(\"Doubtfull Entry {}\".format(len(doubtfull_entry)))"
   ]
  },
  {
   "cell_type": "code",
   "execution_count": 20,
   "metadata": {},
   "outputs": [],
   "source": [
    "# Deleting these entries:\n",
    "indices_to_drop = list(set(entry_to_remove + doubtfull_entry))\n",
    "\n",
    "# Ensure that the indices to drop exist in the DataFrame\n",
    "valid_indices = set(indices_to_drop).intersection(df_cleaned.index)\n",
    "\n",
    "# Drop the valid indices from the DataFrame\n",
    "df_cleaned.drop(valid_indices, axis=0, inplace=True)\n"
   ]
  },
  {
   "cell_type": "markdown",
   "metadata": {},
   "source": [
    "StockCode feature especially the discounted items:"
   ]
  },
  {
   "cell_type": "code",
   "execution_count": 21,
   "metadata": {},
   "outputs": [
    {
     "data": {
      "text/plain": [
       "array(['POST', 'D', 'C2', 'M', 'BANK CHARGES', 'PADS', 'DOT'],\n",
       "      dtype=object)"
      ]
     },
     "execution_count": 21,
     "metadata": {},
     "output_type": "execute_result"
    }
   ],
   "source": [
    "list_special_codes = df_cleaned[df_cleaned['StockCode'].str.contains('^[a-zA-Z]+', regex = True)]['StockCode'].unique()\n",
    "list_special_codes"
   ]
  },
  {
   "cell_type": "code",
   "execution_count": 22,
   "metadata": {},
   "outputs": [
    {
     "name": "stdout",
     "output_type": "stream",
     "text": [
      "POST              -> POSTAGE                            \n",
      "D                 -> Discount                           \n",
      "C2                -> CARRIAGE                           \n",
      "M                 -> Manual                             \n",
      "BANK CHARGES      -> Bank Charges                       \n",
      "PADS              -> PADS TO MATCH ALL CUSHIONS         \n",
      "DOT               -> DOTCOM POSTAGE                     \n"
     ]
    }
   ],
   "source": [
    "# getting the info what the stockode feture means\n",
    "for code in list_special_codes:\n",
    "    print(\"{:<17} -> {:<35}\".format(code, df_cleaned[df_cleaned['StockCode'] == code]['Description'].values[0]))"
   ]
  },
  {
   "cell_type": "code",
   "execution_count": 23,
   "metadata": {},
   "outputs": [
    {
     "data": {
      "text/html": [
       "<div>\n",
       "<style scoped>\n",
       "    .dataframe tbody tr th:only-of-type {\n",
       "        vertical-align: middle;\n",
       "    }\n",
       "\n",
       "    .dataframe tbody tr th {\n",
       "        vertical-align: top;\n",
       "    }\n",
       "\n",
       "    .dataframe thead th {\n",
       "        text-align: right;\n",
       "    }\n",
       "</style>\n",
       "<table border=\"1\" class=\"dataframe\">\n",
       "  <thead>\n",
       "    <tr style=\"text-align: right;\">\n",
       "      <th></th>\n",
       "      <th>InvoiceNo</th>\n",
       "      <th>StockCode</th>\n",
       "      <th>Description</th>\n",
       "      <th>Quantity</th>\n",
       "      <th>InvoiceDate</th>\n",
       "      <th>UnitPrice</th>\n",
       "      <th>CustomerID</th>\n",
       "      <th>Country</th>\n",
       "      <th>QuantityCancelled</th>\n",
       "    </tr>\n",
       "  </thead>\n",
       "  <tbody>\n",
       "    <tr>\n",
       "      <th>0</th>\n",
       "      <td>536365</td>\n",
       "      <td>85123A</td>\n",
       "      <td>WHITE HANGING HEART T-LIGHT HOLDER</td>\n",
       "      <td>6</td>\n",
       "      <td>2010-12-01 08:26:00</td>\n",
       "      <td>2.55</td>\n",
       "      <td>17850.0</td>\n",
       "      <td>United Kingdom</td>\n",
       "      <td>0</td>\n",
       "    </tr>\n",
       "    <tr>\n",
       "      <th>1</th>\n",
       "      <td>536365</td>\n",
       "      <td>71053</td>\n",
       "      <td>WHITE METAL LANTERN</td>\n",
       "      <td>6</td>\n",
       "      <td>2010-12-01 08:26:00</td>\n",
       "      <td>3.39</td>\n",
       "      <td>17850.0</td>\n",
       "      <td>United Kingdom</td>\n",
       "      <td>0</td>\n",
       "    </tr>\n",
       "    <tr>\n",
       "      <th>2</th>\n",
       "      <td>536365</td>\n",
       "      <td>84406B</td>\n",
       "      <td>CREAM CUPID HEARTS COAT HANGER</td>\n",
       "      <td>8</td>\n",
       "      <td>2010-12-01 08:26:00</td>\n",
       "      <td>2.75</td>\n",
       "      <td>17850.0</td>\n",
       "      <td>United Kingdom</td>\n",
       "      <td>0</td>\n",
       "    </tr>\n",
       "    <tr>\n",
       "      <th>3</th>\n",
       "      <td>536365</td>\n",
       "      <td>84029G</td>\n",
       "      <td>KNITTED UNION FLAG HOT WATER BOTTLE</td>\n",
       "      <td>6</td>\n",
       "      <td>2010-12-01 08:26:00</td>\n",
       "      <td>3.39</td>\n",
       "      <td>17850.0</td>\n",
       "      <td>United Kingdom</td>\n",
       "      <td>0</td>\n",
       "    </tr>\n",
       "    <tr>\n",
       "      <th>4</th>\n",
       "      <td>536365</td>\n",
       "      <td>84029E</td>\n",
       "      <td>RED WOOLLY HOTTIE WHITE HEART.</td>\n",
       "      <td>6</td>\n",
       "      <td>2010-12-01 08:26:00</td>\n",
       "      <td>3.39</td>\n",
       "      <td>17850.0</td>\n",
       "      <td>United Kingdom</td>\n",
       "      <td>0</td>\n",
       "    </tr>\n",
       "  </tbody>\n",
       "</table>\n",
       "</div>"
      ],
      "text/plain": [
       "  InvoiceNo StockCode                          Description  Quantity  \\\n",
       "0    536365    85123A   WHITE HANGING HEART T-LIGHT HOLDER         6   \n",
       "1    536365     71053                  WHITE METAL LANTERN         6   \n",
       "2    536365    84406B       CREAM CUPID HEARTS COAT HANGER         8   \n",
       "3    536365    84029G  KNITTED UNION FLAG HOT WATER BOTTLE         6   \n",
       "4    536365    84029E       RED WOOLLY HOTTIE WHITE HEART.         6   \n",
       "\n",
       "          InvoiceDate  UnitPrice  CustomerID         Country  \\\n",
       "0 2010-12-01 08:26:00       2.55     17850.0  United Kingdom   \n",
       "1 2010-12-01 08:26:00       3.39     17850.0  United Kingdom   \n",
       "2 2010-12-01 08:26:00       2.75     17850.0  United Kingdom   \n",
       "3 2010-12-01 08:26:00       3.39     17850.0  United Kingdom   \n",
       "4 2010-12-01 08:26:00       3.39     17850.0  United Kingdom   \n",
       "\n",
       "   QuantityCancelled  \n",
       "0                  0  \n",
       "1                  0  \n",
       "2                  0  \n",
       "3                  0  \n",
       "4                  0  "
      ]
     },
     "execution_count": 23,
     "metadata": {},
     "output_type": "execute_result"
    }
   ],
   "source": [
    "df_cleaned['QuantityCancelled'] = np.nan_to_num(df_cleaned['QuantityCancelled'])\n",
    "df_cleaned.head()"
   ]
  },
  {
   "cell_type": "markdown",
   "metadata": {},
   "source": [
    "Conclusion\n",
    "\n",
    "We see that the same transanction is duplicated for every different item in the dataset. Like above invoice number 536365 the user probably purchased many different items and each have been given a row as shown. We will need to merge these so we will add the totalprice feature for each row."
   ]
  },
  {
   "cell_type": "code",
   "execution_count": 24,
   "metadata": {},
   "outputs": [
    {
     "data": {
      "text/html": [
       "<div>\n",
       "<style scoped>\n",
       "    .dataframe tbody tr th:only-of-type {\n",
       "        vertical-align: middle;\n",
       "    }\n",
       "\n",
       "    .dataframe tbody tr th {\n",
       "        vertical-align: top;\n",
       "    }\n",
       "\n",
       "    .dataframe thead th {\n",
       "        text-align: right;\n",
       "    }\n",
       "</style>\n",
       "<table border=\"1\" class=\"dataframe\">\n",
       "  <thead>\n",
       "    <tr style=\"text-align: right;\">\n",
       "      <th></th>\n",
       "      <th>InvoiceNo</th>\n",
       "      <th>StockCode</th>\n",
       "      <th>Description</th>\n",
       "      <th>Quantity</th>\n",
       "      <th>InvoiceDate</th>\n",
       "      <th>UnitPrice</th>\n",
       "      <th>CustomerID</th>\n",
       "      <th>Country</th>\n",
       "      <th>QuantityCancelled</th>\n",
       "      <th>TotalPrice</th>\n",
       "    </tr>\n",
       "  </thead>\n",
       "  <tbody>\n",
       "    <tr>\n",
       "      <th>61619</th>\n",
       "      <td>541431</td>\n",
       "      <td>23166</td>\n",
       "      <td>MEDIUM CERAMIC TOP STORAGE JAR</td>\n",
       "      <td>74215</td>\n",
       "      <td>2011-01-18 10:01:00</td>\n",
       "      <td>1.04</td>\n",
       "      <td>12346.0</td>\n",
       "      <td>United Kingdom</td>\n",
       "      <td>74215</td>\n",
       "      <td>0.0</td>\n",
       "    </tr>\n",
       "    <tr>\n",
       "      <th>148288</th>\n",
       "      <td>549222</td>\n",
       "      <td>22375</td>\n",
       "      <td>AIRLINE BAG VINTAGE JET SET BROWN</td>\n",
       "      <td>4</td>\n",
       "      <td>2011-04-07 10:43:00</td>\n",
       "      <td>4.25</td>\n",
       "      <td>12347.0</td>\n",
       "      <td>Iceland</td>\n",
       "      <td>0</td>\n",
       "      <td>17.0</td>\n",
       "    </tr>\n",
       "    <tr>\n",
       "      <th>428971</th>\n",
       "      <td>573511</td>\n",
       "      <td>22698</td>\n",
       "      <td>PINK REGENCY TEACUP AND SAUCER</td>\n",
       "      <td>12</td>\n",
       "      <td>2011-10-31 12:25:00</td>\n",
       "      <td>2.95</td>\n",
       "      <td>12347.0</td>\n",
       "      <td>Iceland</td>\n",
       "      <td>0</td>\n",
       "      <td>35.4</td>\n",
       "    </tr>\n",
       "    <tr>\n",
       "      <th>428970</th>\n",
       "      <td>573511</td>\n",
       "      <td>47559B</td>\n",
       "      <td>TEA TIME OVEN GLOVE</td>\n",
       "      <td>10</td>\n",
       "      <td>2011-10-31 12:25:00</td>\n",
       "      <td>1.25</td>\n",
       "      <td>12347.0</td>\n",
       "      <td>Iceland</td>\n",
       "      <td>0</td>\n",
       "      <td>12.5</td>\n",
       "    </tr>\n",
       "    <tr>\n",
       "      <th>428969</th>\n",
       "      <td>573511</td>\n",
       "      <td>47567B</td>\n",
       "      <td>TEA TIME KITCHEN APRON</td>\n",
       "      <td>6</td>\n",
       "      <td>2011-10-31 12:25:00</td>\n",
       "      <td>5.95</td>\n",
       "      <td>12347.0</td>\n",
       "      <td>Iceland</td>\n",
       "      <td>0</td>\n",
       "      <td>35.7</td>\n",
       "    </tr>\n",
       "  </tbody>\n",
       "</table>\n",
       "</div>"
      ],
      "text/plain": [
       "       InvoiceNo StockCode                        Description  Quantity  \\\n",
       "61619     541431     23166     MEDIUM CERAMIC TOP STORAGE JAR     74215   \n",
       "148288    549222     22375  AIRLINE BAG VINTAGE JET SET BROWN         4   \n",
       "428971    573511     22698     PINK REGENCY TEACUP AND SAUCER        12   \n",
       "428970    573511    47559B                TEA TIME OVEN GLOVE        10   \n",
       "428969    573511    47567B             TEA TIME KITCHEN APRON         6   \n",
       "\n",
       "               InvoiceDate  UnitPrice  CustomerID         Country  \\\n",
       "61619  2011-01-18 10:01:00       1.04     12346.0  United Kingdom   \n",
       "148288 2011-04-07 10:43:00       4.25     12347.0         Iceland   \n",
       "428971 2011-10-31 12:25:00       2.95     12347.0         Iceland   \n",
       "428970 2011-10-31 12:25:00       1.25     12347.0         Iceland   \n",
       "428969 2011-10-31 12:25:00       5.95     12347.0         Iceland   \n",
       "\n",
       "        QuantityCancelled  TotalPrice  \n",
       "61619               74215         0.0  \n",
       "148288                  0        17.0  \n",
       "428971                  0        35.4  \n",
       "428970                  0        12.5  \n",
       "428969                  0        35.7  "
      ]
     },
     "execution_count": 24,
     "metadata": {},
     "output_type": "execute_result"
    }
   ],
   "source": [
    "# FInding the total pric for each transaction\n",
    "\n",
    "df_cleaned['TotalPrice'] = df_cleaned['UnitPrice'] * (df_cleaned['Quantity'] - df_cleaned['QuantityCancelled'])\n",
    "df_cleaned.sort_values('CustomerID')[:5]"
   ]
  },
  {
   "cell_type": "markdown",
   "metadata": {},
   "source": [
    "##### Now we sum the individual orders and group them on the basis of invoice number to remove the problem of duplicate rows for same order :"
   ]
  },
  {
   "cell_type": "code",
   "execution_count": 26,
   "metadata": {},
   "outputs": [
    {
     "data": {
      "text/html": [
       "<div>\n",
       "<style scoped>\n",
       "    .dataframe tbody tr th:only-of-type {\n",
       "        vertical-align: middle;\n",
       "    }\n",
       "\n",
       "    .dataframe tbody tr th {\n",
       "        vertical-align: top;\n",
       "    }\n",
       "\n",
       "    .dataframe thead th {\n",
       "        text-align: right;\n",
       "    }\n",
       "</style>\n",
       "<table border=\"1\" class=\"dataframe\">\n",
       "  <thead>\n",
       "    <tr style=\"text-align: right;\">\n",
       "      <th></th>\n",
       "      <th>CustomerID</th>\n",
       "      <th>InvoiceNo</th>\n",
       "      <th>Basket Price</th>\n",
       "      <th>InvoiceDate</th>\n",
       "    </tr>\n",
       "  </thead>\n",
       "  <tbody>\n",
       "    <tr>\n",
       "      <th>1</th>\n",
       "      <td>12347.0</td>\n",
       "      <td>537626</td>\n",
       "      <td>711.79</td>\n",
       "      <td>2010-12-07 14:57:00.000000000</td>\n",
       "    </tr>\n",
       "    <tr>\n",
       "      <th>2</th>\n",
       "      <td>12347.0</td>\n",
       "      <td>542237</td>\n",
       "      <td>475.39</td>\n",
       "      <td>2011-01-26 14:29:59.999999744</td>\n",
       "    </tr>\n",
       "    <tr>\n",
       "      <th>3</th>\n",
       "      <td>12347.0</td>\n",
       "      <td>549222</td>\n",
       "      <td>636.25</td>\n",
       "      <td>2011-04-07 10:43:00.000000000</td>\n",
       "    </tr>\n",
       "    <tr>\n",
       "      <th>4</th>\n",
       "      <td>12347.0</td>\n",
       "      <td>556201</td>\n",
       "      <td>382.52</td>\n",
       "      <td>2011-06-09 13:01:00.000000000</td>\n",
       "    </tr>\n",
       "    <tr>\n",
       "      <th>5</th>\n",
       "      <td>12347.0</td>\n",
       "      <td>562032</td>\n",
       "      <td>584.91</td>\n",
       "      <td>2011-08-02 08:48:00.000000000</td>\n",
       "    </tr>\n",
       "  </tbody>\n",
       "</table>\n",
       "</div>"
      ],
      "text/plain": [
       "   CustomerID InvoiceNo  Basket Price                   InvoiceDate\n",
       "1     12347.0    537626        711.79 2010-12-07 14:57:00.000000000\n",
       "2     12347.0    542237        475.39 2011-01-26 14:29:59.999999744\n",
       "3     12347.0    549222        636.25 2011-04-07 10:43:00.000000000\n",
       "4     12347.0    556201        382.52 2011-06-09 13:01:00.000000000\n",
       "5     12347.0    562032        584.91 2011-08-02 08:48:00.000000000"
      ]
     },
     "execution_count": 26,
     "metadata": {},
     "output_type": "execute_result"
    }
   ],
   "source": [
    "temp = df_cleaned.groupby(by = ['CustomerID', 'InvoiceNo'], as_index = False)['TotalPrice'].sum()\n",
    "basket_price = temp.rename(columns = {'TotalPrice': 'Basket Price'})\n",
    "\n",
    "df_cleaned['InvoiceDate_int'] = df_cleaned['InvoiceDate'].astype('int64')\n",
    "temp = df_cleaned.groupby(by=['CustomerID', 'InvoiceNo'], as_index=False)['InvoiceDate_int'].mean()\n",
    "df_cleaned.drop('InvoiceDate_int', axis = 1, inplace=True)\n",
    "basket_price.loc[:, 'InvoiceDate'] = pd.to_datetime(temp['InvoiceDate_int'])\n",
    "\n",
    "basket_price = basket_price[basket_price['Basket Price'] > 0]\n",
    "basket_price.sort_values('CustomerID')[:5]"
   ]
  },
  {
   "cell_type": "code",
   "execution_count": 27,
   "metadata": {},
   "outputs": [
    {
     "data": {
      "image/png": "[encoded data removed]",
      "text/plain": [
       "<Figure size 792x432 with 1 Axes>"
      ]
     },
     "metadata": {},
     "output_type": "display_data"
    }
   ],
   "source": [
    "price_range = [0, 50, 100, 200, 500, 1000, 5000, 50000]\n",
    "\n",
    "# Initialize an empty list to store the count of orders within each price range\n",
    "count_price = []\n",
    "\n",
    "# Iterate through the price ranges \n",
    "for i,price in enumerate(price_range):\n",
    "    # Skip 1st iteration beacuse price_range[i-1] we are comparing previous\n",
    "    if i==0:\n",
    "        continue\n",
    "\n",
    "    # Count the number of orders within the current price range\n",
    "    val = basket_price[(basket_price['Basket Price'] < price)&\n",
    "                       (basket_price['Basket Price'] > price_range[i-1])]['Basket Price'].count()\n",
    "    count_price.append(val)\n",
    "    \n",
    "# Create a pie chart\n",
    "plt.rc('font', weight='bold')\n",
    "f, ax = plt.subplots(figsize=(11, 6))\n",
    "colors = ['yellowgreen', 'gold', 'wheat', 'c', 'violet', 'royalblue', 'firebrick']\n",
    "labels = [\"{}<.<{}\".format(price_range[i-1], s) for i,s in enumerate(price_range) if i != 0]\n",
    "sizes = count_price\n",
    "explode = [0.0 if sizes[i] < 100 else 0.0 for i in range(len(sizes))]\n",
    "\n",
    "# Plot the pie chart\n",
    "ax.pie(sizes, explode = explode, labels = labels, colors = colors,\n",
    "       autopct = lambda x:'{:1.0f}%'.format(x) if x > 1 else '',\n",
    "       shadow = False, startangle = 0)\n",
    "ax.axis('equal')\n",
    "f.text(0.5, 1.01, \"Distribution of order amounts\", ha = 'center', fontsize = 18)\n",
    "plt.show()"
   ]
  },
  {
   "cell_type": "markdown",
   "metadata": {},
   "source": [
    "#####  Analysing the product Description"
   ]
  },
  {
   "cell_type": "code",
   "execution_count": 28,
   "metadata": {},
   "outputs": [],
   "source": [
    "is_noun = lambda pos: pos[:2] == 'NN'\n",
    "\n",
    "def keywords_inventory(dataframe, colonne='Description'):\n",
    "    import nltk\n",
    "    import pandas as pd\n",
    "    \n",
    "    # Create a stemmer for English words\n",
    "    stemmer = nltk.stem.SnowballStemmer(\"english\")\n",
    "    \n",
    "    # Dictionaries to store information about keywords\n",
    "    keywords_roots = dict()  # Root form of each keyword\n",
    "    keywords_select = dict()  # Selected form of each keyword\n",
    "    category_keys = []  # List of selected keywords\n",
    "    count_keywords = dict()  # Count of each keyword occurrence\n",
    "    \n",
    "    # Iterate through each entry in the specified column of the DataFrame\n",
    "    for s in dataframe[colonne]:\n",
    "        if pd.isnull(s): continue  # Skip NaN values\n",
    "        \n",
    "        # Convert the text to lowercase\n",
    "        lines = s.lower()\n",
    "        \n",
    "        # Tokenize the text into words\n",
    "        tokenized = nltk.word_tokenize(lines)\n",
    "        \n",
    "        # Extract nouns using NLTK's part-of-speech tagging\n",
    "        nouns = [word for (word, pos) in nltk.pos_tag(tokenized) if is_noun(pos)]\n",
    "        \n",
    "        # Process each noun\n",
    "        for t in nouns:\n",
    "            t = t.lower()  # Convert to lowercase\n",
    "            racine = stemmer.stem(t)  # Stem the word using SnowballStemmer\n",
    "            \n",
    "            # Update dictionaries with information about the keyword\n",
    "            if racine in keywords_roots:\n",
    "                keywords_roots[racine].add(t)\n",
    "                count_keywords[racine] += 1\n",
    "            else:\n",
    "                keywords_roots[racine] = {t}\n",
    "                count_keywords[racine] = 1\n",
    "    \n",
    "    # Iterate through the roots of keywords\n",
    "    for s in keywords_roots.keys():\n",
    "        if len(keywords_roots[s]) > 1:\n",
    "            # If multiple forms of the keyword exist, select the one with the minimum length\n",
    "            min_length = 1000\n",
    "            for k in keywords_roots[s]:\n",
    "                if len(k) < min_length:\n",
    "                    clef = k\n",
    "                    min_length = len(k)\n",
    "            \n",
    "            # Append the selected form to the list of category keys\n",
    "            category_keys.append(clef)\n",
    "            \n",
    "            # Update the selected keyword dictionary\n",
    "            keywords_select[s] = clef\n",
    "        \n",
    "        else:\n",
    "            # If only one form of the keyword exists, use it\n",
    "            category_keys.append(list(keywords_roots[s])[0])\n",
    "            keywords_select[s] = list(keywords_roots[s])[0]\n",
    "    \n",
    "    # Print the number of keywords and return relevant information\n",
    "    print(\"Number of keywords in the variable '{}': {}\".format(colonne, len(category_keys)))\n",
    "    return category_keys, keywords_roots, keywords_select, count_keywords\n"
   ]
  },
  {
   "cell_type": "code",
   "execution_count": 29,
   "metadata": {},
   "outputs": [],
   "source": [
    "df_produits = pd.DataFrame(data['Description'].unique()).rename(columns = {0:\"Description\"})"
   ]
  },
  {
   "cell_type": "code",
   "execution_count": 30,
   "metadata": {},
   "outputs": [
    {
     "name": "stdout",
     "output_type": "stream",
     "text": [
      "Number of keywords in the variable 'Description': 1483\n"
     ]
    }
   ],
   "source": [
    "keywords, keywords_roots, keywords_select, count_keywords = keywords_inventory(df_produits)"
   ]
  },
  {
   "cell_type": "code",
   "execution_count": 31,
   "metadata": {},
   "outputs": [],
   "source": [
    "# Plotting keywords vs frequency graph :\n",
    "list_products = []\n",
    "for k, v in count_keywords.items():\n",
    "    word = keywords_select[k]\n",
    "    list_products.append([word, v])"
   ]
  },
  {
   "cell_type": "code",
   "execution_count": 32,
   "metadata": {},
   "outputs": [
    {
     "data": {
      "image/png": "[encoded data removed]",
      "text/plain": [
       "<Figure size 504x1800 with 1 Axes>"
      ]
     },
     "metadata": {},
     "output_type": "display_data"
    }
   ],
   "source": [
    "liste = sorted(list_products, key = lambda x:x[1], reverse=True)\n",
    "\n",
    "plt.rc('font', weight='normal')\n",
    "fig, ax = plt.subplots(figsize=(7, 25))\n",
    "y_axis = [i[1] for i in liste[:125]]\n",
    "x_axis = [k for k,i in enumerate(liste[:125])]\n",
    "x_label = [i[0] for i in liste[:125]]\n",
    "plt.xticks(fontsize=15)\n",
    "plt.yticks(fontsize=13)\n",
    "plt.yticks(x_axis, x_label)\n",
    "plt.xlabel(\"Number of occurance\", fontsize = 18, labelpad = 10)\n",
    "ax.barh(x_axis, y_axis, align='center')\n",
    "ax = plt.gca()\n",
    "ax.invert_yaxis()\n",
    "\n",
    "plt.title(\"Word Occurance\", bbox={'facecolor':'k', 'pad':5}, color='w', fontsize = 25)\n",
    "plt.show()"
   ]
  },
  {
   "cell_type": "code",
   "execution_count": 33,
   "metadata": {},
   "outputs": [
    {
     "name": "stdout",
     "output_type": "stream",
     "text": [
      "Number of preserved words: 193\n"
     ]
    }
   ],
   "source": [
    "# Create an empty list to store important words along with their counts\n",
    "list_products = []\n",
    "\n",
    "# Iterate through the items in the count_keywords dictionary\n",
    "for k, v in count_keywords.items():\n",
    "    # Retrieve the selected form of the keyword\n",
    "    word = keywords_select[k]\n",
    "    \n",
    "    # Skip certain words based on predefined criteria\n",
    "    if word in ['pink', 'blue', 'tag', 'green', 'orange']:\n",
    "        continue\n",
    "    if len(word) < 3 or v < 13:\n",
    "        continue\n",
    "    \n",
    "    # Append the word and its count to the list\n",
    "    list_products.append([word, v])\n",
    "\n",
    "# Sort the list of preserved words based on count in descending order\n",
    "list_products.sort(key=lambda x: x[1], reverse=True)\n",
    "\n",
    "# Print the number of preserved words\n",
    "print(\"Number of preserved words:\", len(list_products))\n"
   ]
  },
  {
   "cell_type": "markdown",
   "metadata": {},
   "source": [
    "##### Describing every product in terms of words present in the description :\n",
    "1. We will only use the preserved words, this is just like Binary Bag of Words<br>\n",
    "2. We need to convert this into a product matrix with products as rows and different words as columns. A cell contains a 1 if a particular product has that word in its description else it contains 0.\n",
    "3. We will use this matrix to categorize the products.\n",
    "4. We will add a mean price feature so that the groups are balanced."
   ]
  },
  {
   "cell_type": "code",
   "execution_count": 34,
   "metadata": {},
   "outputs": [],
   "source": [
    "# Define a threshold list for categorizing product prices\n",
    "threshold = [0, 1, 2, 3, 5, 10]\n",
    "\n",
    "# Get unique product descriptions from the cleaned DataFrame\n",
    "liste_produits = df_cleaned['Description'].unique()\n",
    "\n",
    "# Create an empty DataFrame to store product and word matrix\n",
    "X = pd.DataFrame()\n",
    "\n",
    "# Iterate through important words and create a matrix indicating the presence of each word in each product description\n",
    "for key, occurence in list_products:\n",
    "    X.loc[:, key] = list(map(lambda x: int(key.upper() in x), liste_produits))\n",
    "\n",
    "# Create label columns based on the price threshold\n",
    "label_col = []\n",
    "\n",
    "# Iterate through the threshold values to create label columns\n",
    "for i in range(len(threshold)):\n",
    "    if i == len(threshold) - 1:\n",
    "        col = 'Unit price>{}'.format(threshold[i])\n",
    "    else:\n",
    "        col = '{}<Unit price<{}'.format(threshold[i], threshold[i+1])\n",
    "        \n",
    "    label_col.append(col)\n",
    "    X.loc[:, col] = 0\n",
    "\n",
    "# Assign labels to products based on their average unit price and the defined threshold\n",
    "for i, prod in enumerate(liste_produits):\n",
    "    # Calculate the average unit price for each product\n",
    "    prix = df_cleaned[df_cleaned['Description'] == prod]['UnitPrice'].mean()\n",
    "    j = 0\n",
    "    \n",
    "    # Categorize the product based on the price threshold\n",
    "    while prix > threshold[j]:\n",
    "        j += 1\n",
    "        if j == len(threshold):\n",
    "            break\n",
    "    X.loc[i, label_col[j-1]] = 1\n"
   ]
  },
  {
   "cell_type": "code",
   "execution_count": 35,
   "metadata": {},
   "outputs": [
    {
     "name": "stdout",
     "output_type": "stream",
     "text": [
      "Range    \t\tNo of products       \n",
      "----------------------------------------\n",
      "0<Unit price<1\t\t964                 \n",
      "1<Unit price<2\t\t1009                \n",
      "2<Unit price<3\t\t673                 \n",
      "3<Unit price<5\t\t606                 \n",
      "5<Unit price<10\t\t470                 \n",
      "Unit price>10\t\t156                 \n"
     ]
    }
   ],
   "source": [
    "print(\"{:<8} \\t\\t{:<20} \\n\".format('Range', 'No of products') + 40*'-')\n",
    "for i in range(len(threshold)):\n",
    "    if i == len(threshold)-1:\n",
    "        col = 'Unit price>{}'.format(threshold[i])\n",
    "    else:\n",
    "        col = '{}<Unit price<{}'.format(threshold[i],threshold[i+1])\n",
    "    print(\"{:<10}\\t\\t{:<20}\".format(col, X.loc[:, col].sum()))"
   ]
  },
  {
   "cell_type": "code",
   "execution_count": 36,
   "metadata": {},
   "outputs": [
    {
     "data": {
      "text/html": [
       "<div>\n",
       "<style scoped>\n",
       "    .dataframe tbody tr th:only-of-type {\n",
       "        vertical-align: middle;\n",
       "    }\n",
       "\n",
       "    .dataframe tbody tr th {\n",
       "        vertical-align: top;\n",
       "    }\n",
       "\n",
       "    .dataframe thead th {\n",
       "        text-align: right;\n",
       "    }\n",
       "</style>\n",
       "<table border=\"1\" class=\"dataframe\">\n",
       "  <thead>\n",
       "    <tr style=\"text-align: right;\">\n",
       "      <th></th>\n",
       "      <th>heart</th>\n",
       "      <th>vintage</th>\n",
       "      <th>set</th>\n",
       "      <th>bag</th>\n",
       "      <th>box</th>\n",
       "      <th>glass</th>\n",
       "      <th>christmas</th>\n",
       "      <th>design</th>\n",
       "      <th>candle</th>\n",
       "      <th>holder</th>\n",
       "      <th>...</th>\n",
       "      <th>lace</th>\n",
       "      <th>jewel</th>\n",
       "      <th>wallet</th>\n",
       "      <th>point</th>\n",
       "      <th>0&lt;Unit price&lt;1</th>\n",
       "      <th>1&lt;Unit price&lt;2</th>\n",
       "      <th>2&lt;Unit price&lt;3</th>\n",
       "      <th>3&lt;Unit price&lt;5</th>\n",
       "      <th>5&lt;Unit price&lt;10</th>\n",
       "      <th>Unit price&gt;10</th>\n",
       "    </tr>\n",
       "  </thead>\n",
       "  <tbody>\n",
       "    <tr>\n",
       "      <th>0</th>\n",
       "      <td>1</td>\n",
       "      <td>0</td>\n",
       "      <td>0</td>\n",
       "      <td>0</td>\n",
       "      <td>0</td>\n",
       "      <td>0</td>\n",
       "      <td>0</td>\n",
       "      <td>0</td>\n",
       "      <td>0</td>\n",
       "      <td>1</td>\n",
       "      <td>...</td>\n",
       "      <td>0</td>\n",
       "      <td>0</td>\n",
       "      <td>0</td>\n",
       "      <td>0</td>\n",
       "      <td>0</td>\n",
       "      <td>0</td>\n",
       "      <td>1</td>\n",
       "      <td>0</td>\n",
       "      <td>0</td>\n",
       "      <td>0</td>\n",
       "    </tr>\n",
       "    <tr>\n",
       "      <th>1</th>\n",
       "      <td>0</td>\n",
       "      <td>0</td>\n",
       "      <td>0</td>\n",
       "      <td>0</td>\n",
       "      <td>0</td>\n",
       "      <td>0</td>\n",
       "      <td>0</td>\n",
       "      <td>0</td>\n",
       "      <td>0</td>\n",
       "      <td>0</td>\n",
       "      <td>...</td>\n",
       "      <td>0</td>\n",
       "      <td>0</td>\n",
       "      <td>0</td>\n",
       "      <td>0</td>\n",
       "      <td>0</td>\n",
       "      <td>0</td>\n",
       "      <td>0</td>\n",
       "      <td>1</td>\n",
       "      <td>0</td>\n",
       "      <td>0</td>\n",
       "    </tr>\n",
       "    <tr>\n",
       "      <th>2</th>\n",
       "      <td>1</td>\n",
       "      <td>0</td>\n",
       "      <td>0</td>\n",
       "      <td>0</td>\n",
       "      <td>0</td>\n",
       "      <td>0</td>\n",
       "      <td>0</td>\n",
       "      <td>0</td>\n",
       "      <td>0</td>\n",
       "      <td>0</td>\n",
       "      <td>...</td>\n",
       "      <td>0</td>\n",
       "      <td>0</td>\n",
       "      <td>0</td>\n",
       "      <td>0</td>\n",
       "      <td>0</td>\n",
       "      <td>0</td>\n",
       "      <td>0</td>\n",
       "      <td>1</td>\n",
       "      <td>0</td>\n",
       "      <td>0</td>\n",
       "    </tr>\n",
       "    <tr>\n",
       "      <th>3</th>\n",
       "      <td>0</td>\n",
       "      <td>0</td>\n",
       "      <td>0</td>\n",
       "      <td>0</td>\n",
       "      <td>0</td>\n",
       "      <td>0</td>\n",
       "      <td>0</td>\n",
       "      <td>0</td>\n",
       "      <td>0</td>\n",
       "      <td>0</td>\n",
       "      <td>...</td>\n",
       "      <td>0</td>\n",
       "      <td>0</td>\n",
       "      <td>0</td>\n",
       "      <td>0</td>\n",
       "      <td>0</td>\n",
       "      <td>0</td>\n",
       "      <td>0</td>\n",
       "      <td>1</td>\n",
       "      <td>0</td>\n",
       "      <td>0</td>\n",
       "    </tr>\n",
       "    <tr>\n",
       "      <th>4</th>\n",
       "      <td>1</td>\n",
       "      <td>0</td>\n",
       "      <td>0</td>\n",
       "      <td>0</td>\n",
       "      <td>0</td>\n",
       "      <td>0</td>\n",
       "      <td>0</td>\n",
       "      <td>0</td>\n",
       "      <td>0</td>\n",
       "      <td>0</td>\n",
       "      <td>...</td>\n",
       "      <td>0</td>\n",
       "      <td>0</td>\n",
       "      <td>0</td>\n",
       "      <td>0</td>\n",
       "      <td>0</td>\n",
       "      <td>0</td>\n",
       "      <td>0</td>\n",
       "      <td>1</td>\n",
       "      <td>0</td>\n",
       "      <td>0</td>\n",
       "    </tr>\n",
       "    <tr>\n",
       "      <th>...</th>\n",
       "      <td>...</td>\n",
       "      <td>...</td>\n",
       "      <td>...</td>\n",
       "      <td>...</td>\n",
       "      <td>...</td>\n",
       "      <td>...</td>\n",
       "      <td>...</td>\n",
       "      <td>...</td>\n",
       "      <td>...</td>\n",
       "      <td>...</td>\n",
       "      <td>...</td>\n",
       "      <td>...</td>\n",
       "      <td>...</td>\n",
       "      <td>...</td>\n",
       "      <td>...</td>\n",
       "      <td>...</td>\n",
       "      <td>...</td>\n",
       "      <td>...</td>\n",
       "      <td>...</td>\n",
       "      <td>...</td>\n",
       "      <td>...</td>\n",
       "    </tr>\n",
       "    <tr>\n",
       "      <th>3873</th>\n",
       "      <td>0</td>\n",
       "      <td>0</td>\n",
       "      <td>0</td>\n",
       "      <td>0</td>\n",
       "      <td>0</td>\n",
       "      <td>0</td>\n",
       "      <td>0</td>\n",
       "      <td>0</td>\n",
       "      <td>0</td>\n",
       "      <td>0</td>\n",
       "      <td>...</td>\n",
       "      <td>0</td>\n",
       "      <td>0</td>\n",
       "      <td>0</td>\n",
       "      <td>0</td>\n",
       "      <td>1</td>\n",
       "      <td>0</td>\n",
       "      <td>0</td>\n",
       "      <td>0</td>\n",
       "      <td>0</td>\n",
       "      <td>0</td>\n",
       "    </tr>\n",
       "    <tr>\n",
       "      <th>3874</th>\n",
       "      <td>0</td>\n",
       "      <td>0</td>\n",
       "      <td>0</td>\n",
       "      <td>0</td>\n",
       "      <td>0</td>\n",
       "      <td>0</td>\n",
       "      <td>0</td>\n",
       "      <td>0</td>\n",
       "      <td>0</td>\n",
       "      <td>0</td>\n",
       "      <td>...</td>\n",
       "      <td>0</td>\n",
       "      <td>0</td>\n",
       "      <td>0</td>\n",
       "      <td>0</td>\n",
       "      <td>1</td>\n",
       "      <td>0</td>\n",
       "      <td>0</td>\n",
       "      <td>0</td>\n",
       "      <td>0</td>\n",
       "      <td>0</td>\n",
       "    </tr>\n",
       "    <tr>\n",
       "      <th>3875</th>\n",
       "      <td>0</td>\n",
       "      <td>0</td>\n",
       "      <td>0</td>\n",
       "      <td>0</td>\n",
       "      <td>0</td>\n",
       "      <td>0</td>\n",
       "      <td>0</td>\n",
       "      <td>0</td>\n",
       "      <td>0</td>\n",
       "      <td>0</td>\n",
       "      <td>...</td>\n",
       "      <td>0</td>\n",
       "      <td>0</td>\n",
       "      <td>0</td>\n",
       "      <td>0</td>\n",
       "      <td>1</td>\n",
       "      <td>0</td>\n",
       "      <td>0</td>\n",
       "      <td>0</td>\n",
       "      <td>0</td>\n",
       "      <td>0</td>\n",
       "    </tr>\n",
       "    <tr>\n",
       "      <th>3876</th>\n",
       "      <td>1</td>\n",
       "      <td>0</td>\n",
       "      <td>0</td>\n",
       "      <td>0</td>\n",
       "      <td>0</td>\n",
       "      <td>0</td>\n",
       "      <td>0</td>\n",
       "      <td>0</td>\n",
       "      <td>0</td>\n",
       "      <td>1</td>\n",
       "      <td>...</td>\n",
       "      <td>0</td>\n",
       "      <td>0</td>\n",
       "      <td>0</td>\n",
       "      <td>0</td>\n",
       "      <td>0</td>\n",
       "      <td>0</td>\n",
       "      <td>1</td>\n",
       "      <td>0</td>\n",
       "      <td>0</td>\n",
       "      <td>0</td>\n",
       "    </tr>\n",
       "    <tr>\n",
       "      <th>3877</th>\n",
       "      <td>0</td>\n",
       "      <td>0</td>\n",
       "      <td>0</td>\n",
       "      <td>0</td>\n",
       "      <td>0</td>\n",
       "      <td>0</td>\n",
       "      <td>0</td>\n",
       "      <td>0</td>\n",
       "      <td>0</td>\n",
       "      <td>0</td>\n",
       "      <td>...</td>\n",
       "      <td>0</td>\n",
       "      <td>0</td>\n",
       "      <td>0</td>\n",
       "      <td>0</td>\n",
       "      <td>0</td>\n",
       "      <td>0</td>\n",
       "      <td>1</td>\n",
       "      <td>0</td>\n",
       "      <td>0</td>\n",
       "      <td>0</td>\n",
       "    </tr>\n",
       "  </tbody>\n",
       "</table>\n",
       "<p>3878 rows × 199 columns</p>\n",
       "</div>"
      ],
      "text/plain": [
       "      heart  vintage  set  bag  box  glass  christmas  design  candle  holder  \\\n",
       "0         1        0    0    0    0      0          0       0       0       1   \n",
       "1         0        0    0    0    0      0          0       0       0       0   \n",
       "2         1        0    0    0    0      0          0       0       0       0   \n",
       "3         0        0    0    0    0      0          0       0       0       0   \n",
       "4         1        0    0    0    0      0          0       0       0       0   \n",
       "...     ...      ...  ...  ...  ...    ...        ...     ...     ...     ...   \n",
       "3873      0        0    0    0    0      0          0       0       0       0   \n",
       "3874      0        0    0    0    0      0          0       0       0       0   \n",
       "3875      0        0    0    0    0      0          0       0       0       0   \n",
       "3876      1        0    0    0    0      0          0       0       0       1   \n",
       "3877      0        0    0    0    0      0          0       0       0       0   \n",
       "\n",
       "      ...  lace  jewel  wallet  point  0<Unit price<1  1<Unit price<2  \\\n",
       "0     ...     0      0       0      0               0               0   \n",
       "1     ...     0      0       0      0               0               0   \n",
       "2     ...     0      0       0      0               0               0   \n",
       "3     ...     0      0       0      0               0               0   \n",
       "4     ...     0      0       0      0               0               0   \n",
       "...   ...   ...    ...     ...    ...             ...             ...   \n",
       "3873  ...     0      0       0      0               1               0   \n",
       "3874  ...     0      0       0      0               1               0   \n",
       "3875  ...     0      0       0      0               1               0   \n",
       "3876  ...     0      0       0      0               0               0   \n",
       "3877  ...     0      0       0      0               0               0   \n",
       "\n",
       "      2<Unit price<3  3<Unit price<5  5<Unit price<10  Unit price>10  \n",
       "0                  1               0                0              0  \n",
       "1                  0               1                0              0  \n",
       "2                  0               1                0              0  \n",
       "3                  0               1                0              0  \n",
       "4                  0               1                0              0  \n",
       "...              ...             ...              ...            ...  \n",
       "3873               0               0                0              0  \n",
       "3874               0               0                0              0  \n",
       "3875               0               0                0              0  \n",
       "3876               1               0                0              0  \n",
       "3877               1               0                0              0  \n",
       "\n",
       "[3878 rows x 199 columns]"
      ]
     },
     "execution_count": 36,
     "metadata": {},
     "output_type": "execute_result"
    }
   ],
   "source": [
    "X"
   ]
  },
  {
   "cell_type": "markdown",
   "metadata": {},
   "source": [
    "# Clustring\n",
    "\n",
    "1. KMEANS"
   ]
  },
  {
   "cell_type": "code",
   "execution_count": 37,
   "metadata": {},
   "outputs": [],
   "source": [
    "from sklearn.cluster import KMeans\n",
    "from sklearn.metrics import silhouette_score"
   ]
  },
  {
   "cell_type": "markdown",
   "metadata": {},
   "source": [
    "Silhouette analysis can be used to study the separation distance between the resulting clusters. The silhouette plot displays a measure of how close each point in one cluster is to points in the neighboring clusters and thus provides a way to assess parameters like number of clusters visually. This measure has a range of [-1, 1].\n",
    "\n",
    "Silhouette coefficients (as these values are referred to as) near +1 indicate that the sample is far away from the neighboring clusters. A value of 0 indicates that the sample is on or very close to the decision boundary between two neighboring clusters and negative values indicate that those samples might have been assigned to the wrong cluster."
   ]
  },
  {
   "cell_type": "code",
   "execution_count": 38,
   "metadata": {},
   "outputs": [],
   "source": [
    "matrix = X.to_numpy()"
   ]
  },
  {
   "cell_type": "code",
   "execution_count": 39,
   "metadata": {},
   "outputs": [
    {
     "name": "stdout",
     "output_type": "stream",
     "text": [
      "For n_clusters: 3 The average silhouette_score is: 0.10158702596012364\n",
      "For n_clusters: 4 The average silhouette_score is: 0.1268004588393788\n",
      "For n_clusters: 5 The average silhouette_score is: 0.1456307025835938\n",
      "For n_clusters: 6 The average silhouette_score is: 0.10257766715650385\n",
      "For n_clusters: 7 The average silhouette_score is: 0.13450182252547876\n",
      "For n_clusters: 8 The average silhouette_score is: 0.1493318085845147\n",
      "For n_clusters: 9 The average silhouette_score is: 0.13915129764723533\n"
     ]
    }
   ],
   "source": [
    "# Iterate through a range of potential cluster numbers (3 to 9 in this case)\n",
    "for n_clusters in range(3, 10):\n",
    "    # Initialize KMeans with k-means++ initialization, specified cluster number, and 30 random initializations\n",
    "    kmeans = KMeans(init='k-means++', n_clusters=n_clusters, n_init=30)\n",
    "\n",
    "    # Fit the KMeans model to the data matrix\n",
    "    kmeans.fit(matrix)\n",
    "    \n",
    "    # Predict the cluster labels for each data point in the matrix\n",
    "    clusters = kmeans.predict(matrix)\n",
    "    \n",
    "    # Calculate the average silhouette score for the clustering\n",
    "    sil_avg = silhouette_score(matrix, clusters)\n",
    "    \n",
    "    # Print the silhouette score for the current number of clusters\n",
    "    print(\"For n_clusters:\", n_clusters, \"The average silhouette_score is:\", sil_avg)\n"
   ]
  },
  {
   "cell_type": "code",
   "execution_count": 40,
   "metadata": {},
   "outputs": [
    {
     "name": "stdout",
     "output_type": "stream",
     "text": [
      "For n_clusters :  3 The average silhouette_score is :  0.10158702596012364\n",
      "For n_clusters :  4 The average silhouette_score is :  0.1268004588393788\n",
      "For n_clusters :  5 The average silhouette_score is :  0.14740815062347604\n",
      "For n_clusters :  6 The average silhouette_score is :  0.1450621616291374\n",
      "For n_clusters :  7 The average silhouette_score is :  0.14929259873918427\n",
      "For n_clusters :  8 The average silhouette_score is :  0.11953680208546182\n",
      "For n_clusters :  9 The average silhouette_score is :  0.11446060168201747\n"
     ]
    }
   ],
   "source": [
    "# Using optimal number of clusters using hyperparameter tuning:\n",
    "for n_clusters in range(3, 10):\n",
    "    kmeans = KMeans(init='k-means++', n_clusters = n_clusters, n_init = 30)\n",
    "    kmeans.fit(matrix)\n",
    "    clusters = kmeans.predict(matrix)\n",
    "    sil_avg = silhouette_score(matrix, clusters)\n",
    "    print(\"For n_clusters : \", n_clusters, \"The average silhouette_score is : \", sil_avg)"
   ]
  },
  {
   "cell_type": "code",
   "execution_count": 41,
   "metadata": {},
   "outputs": [
    {
     "name": "stdout",
     "output_type": "stream",
     "text": [
      "For n_clusters :  5 The average silhouette_score is :  0.12670138195616623\n",
      "For n_clusters :  5 The average silhouette_score is :  0.14740815062347604\n"
     ]
    }
   ],
   "source": [
    "# Choosing number of clusters as 5:\n",
    "# Trying Improving the silhouette_score :\n",
    "n_clusters = 5\n",
    "sil_avg = -1\n",
    "while sil_avg < 0.145:\n",
    "    kmeans = KMeans(init = 'k-means++', n_clusters = n_clusters, n_init = 30)\n",
    "    kmeans.fit(matrix)\n",
    "    clusters = kmeans.predict(matrix)\n",
    "    sil_avg = silhouette_score(matrix, clusters)\n",
    "    print(\"For n_clusters : \", n_clusters, \"The average silhouette_score is : \", sil_avg)"
   ]
  },
  {
   "cell_type": "code",
   "execution_count": 42,
   "metadata": {},
   "outputs": [
    {
     "data": {
      "text/plain": [
       "2    1009\n",
       "3     964\n",
       "1     673\n",
       "4     626\n",
       "0     606\n",
       "Name: count, dtype: int64"
      ]
     },
     "execution_count": 42,
     "metadata": {},
     "output_type": "execute_result"
    }
   ],
   "source": [
    "# Number of elements in each cluster :\n",
    "pd.Series(clusters).value_counts()"
   ]
  },
  {
   "cell_type": "code",
   "execution_count": 43,
   "metadata": {},
   "outputs": [],
   "source": [
    "def graph_component_silhouette(n_clusters, lim_x, mat_size, sample_silhouette_values, clusters):\n",
    "    import matplotlib as mpl\n",
    "    import matplotlib.pyplot as plt\n",
    "    import numpy as np\n",
    "    \n",
    "    # Set matplotlib configuration for patch edges\n",
    "    mpl.rc('patch', edgecolor='dimgray', linewidth=1)\n",
    "\n",
    "    # Create a subplot with specified dimensions\n",
    "    fig, ax1 = plt.subplots(1, 1)\n",
    "    fig.set_size_inches(8, 8)\n",
    "\n",
    "    # Set x-axis and y-axis limits\n",
    "    ax1.set_xlim([lim_x[0], lim_x[1]])\n",
    "    ax1.set_ylim([0, mat_size + (n_clusters + 1) * 10])\n",
    "    \n",
    "    # Initialize y_lower for the silhouette plot\n",
    "    y_lower = 10\n",
    "\n",
    "    # Iterate through clusters to create silhouette plots\n",
    "    for i in range(n_clusters):\n",
    "        # Extract silhouette values for the current cluster\n",
    "        ith_cluster_silhouette_values = sample_silhouette_values[clusters == i]\n",
    "        \n",
    "        # Sort silhouette values\n",
    "        ith_cluster_silhouette_values.sort()\n",
    "        \n",
    "        # Calculate the size of the current cluster\n",
    "        size_cluster_i = ith_cluster_silhouette_values.shape[0]\n",
    "        \n",
    "        # Set y_upper for the silhouette plot\n",
    "        y_upper = y_lower + size_cluster_i\n",
    "        \n",
    "        # Fill the area between 0 and silhouette values for the current cluster\n",
    "        ax1.fill_betweenx(np.arange(y_lower, y_upper), 0, ith_cluster_silhouette_values, alpha=0.8)\n",
    "        \n",
    "        # Add a label for the cluster number\n",
    "        ax1.text(-0.03, y_lower + 0.5 * size_cluster_i, str(i), color='red', fontweight='bold',\n",
    "                 bbox=dict(facecolor='white', edgecolor='black', boxstyle='round, pad=0.3'))\n",
    "        \n",
    "        # Update y_lower for the next cluster\n",
    "        y_lower = y_upper + 10"
   ]
  },
  {
   "cell_type": "code",
   "execution_count": 44,
   "metadata": {},
   "outputs": [
    {
     "data": {
      "image/png": "[encoded data removed]",
      "text/plain": [
       "<Figure size 576x576 with 1 Axes>"
      ]
     },
     "metadata": {},
     "output_type": "display_data"
    }
   ],
   "source": [
    "# Plotting the intra cluster silhouette distances.\n",
    "from sklearn.metrics import silhouette_samples\n",
    "sample_silhouette_values = silhouette_samples(matrix, clusters)\n",
    "graph_component_silhouette(n_clusters, [-0.07, 0.33], len(X), sample_silhouette_values, clusters)"
   ]
  },
  {
   "cell_type": "markdown",
   "metadata": {},
   "source": [
    "##### Analysis using Worldcloud\n",
    "\n",
    "Checking which words are most common in the clusters."
   ]
  },
  {
   "cell_type": "code",
   "execution_count": 45,
   "metadata": {},
   "outputs": [],
   "source": [
    "liste = pd.DataFrame(liste_produits)\n",
    "liste_words = [word for (word, occurance) in list_products]\n",
    "\n",
    "occurance = [dict() for _ in range(n_clusters)]"
   ]
  },
  {
   "cell_type": "code",
   "execution_count": 46,
   "metadata": {},
   "outputs": [],
   "source": [
    "# Creating data for printing word cloud.\n",
    "for i in range(n_clusters):\n",
    "    liste_cluster = liste.loc[clusters == i]\n",
    "    for word in liste_words:\n",
    "        if word in ['art', 'set', 'heart', 'pink', 'blue', 'tag']: continue\n",
    "        occurance[i][word] = sum(liste_cluster.loc[:, 0].str.contains(word.upper()))"
   ]
  },
  {
   "cell_type": "code",
   "execution_count": 47,
   "metadata": {},
   "outputs": [],
   "source": [
    "# Code for printing word cloud.\n",
    "from random import randint\n",
    "import random\n",
    "def random_color_func(word=None, font_size=None, position=None,orientation=None, font_path=None, random_state=None):\n",
    "    h = int(360.0 * tone / 255.0)\n",
    "    s = int(100.0 * 255.0 / 255.0)\n",
    "    l = int(100.0 * float(random_state.randint(70, 120)) / 255.0)\n",
    "    return \"hsl({}, {}%, {}%)\".format(h, s, l)"
   ]
  },
  {
   "cell_type": "code",
   "execution_count": 48,
   "metadata": {},
   "outputs": [],
   "source": [
    "def make_wordcloud(liste, increment):\n",
    "    ax1 = fig.add_subplot(4, 2, increment)\n",
    "    words = dict()\n",
    "    trunc_occurances = liste[0:150]\n",
    "    for s in trunc_occurances:\n",
    "        words[s[0]] = s[1]\n",
    "        \n",
    "    wc = wordcloud.WordCloud(width=1000,height=400, background_color='lightgrey', max_words=1628,relative_scaling=1,\n",
    "                             color_func = random_color_func, normalize_plurals=False)\n",
    "    wc.generate_from_frequencies(words)\n",
    "    ax1.imshow(wc, interpolation=\"bilinear\")\n",
    "    ax1.axis('off')\n",
    "    plt.title('cluster n{}'.format(increment-1))"
   ]
  },
  {
   "cell_type": "code",
   "execution_count": 49,
   "metadata": {},
   "outputs": [
    {
     "ename": "ValueError",
     "evalue": "Only supported for TrueType fonts",
     "output_type": "error",
     "traceback": [
      "\u001b[0;31m---------------------------------------------------------------------------\u001b[0m",
      "\u001b[0;31mValueError\u001b[0m                                Traceback (most recent call last)",
      "\u001b[0;32m/tmp/ipykernel_3695/2762510473.py\u001b[0m in \u001b[0;36m<module>\u001b[0;34m\u001b[0m\n\u001b[1;32m      9\u001b[0m         \u001b[0mliste\u001b[0m\u001b[0;34m.\u001b[0m\u001b[0mappend\u001b[0m\u001b[0;34m(\u001b[0m\u001b[0;34m[\u001b[0m\u001b[0mkey\u001b[0m\u001b[0;34m,\u001b[0m \u001b[0mvalue\u001b[0m\u001b[0;34m]\u001b[0m\u001b[0;34m)\u001b[0m\u001b[0;34m\u001b[0m\u001b[0;34m\u001b[0m\u001b[0m\n\u001b[1;32m     10\u001b[0m     \u001b[0mliste\u001b[0m\u001b[0;34m.\u001b[0m\u001b[0msort\u001b[0m\u001b[0;34m(\u001b[0m\u001b[0mkey\u001b[0m \u001b[0;34m=\u001b[0m \u001b[0;32mlambda\u001b[0m \u001b[0mx\u001b[0m\u001b[0;34m:\u001b[0m\u001b[0mx\u001b[0m\u001b[0;34m[\u001b[0m\u001b[0;36m1\u001b[0m\u001b[0;34m]\u001b[0m\u001b[0;34m,\u001b[0m \u001b[0mreverse\u001b[0m \u001b[0;34m=\u001b[0m \u001b[0;32mTrue\u001b[0m\u001b[0;34m)\u001b[0m\u001b[0;34m\u001b[0m\u001b[0;34m\u001b[0m\u001b[0m\n\u001b[0;32m---> 11\u001b[0;31m     \u001b[0mmake_wordcloud\u001b[0m\u001b[0;34m(\u001b[0m\u001b[0mliste\u001b[0m\u001b[0;34m,\u001b[0m \u001b[0mi\u001b[0m\u001b[0;34m+\u001b[0m\u001b[0;36m1\u001b[0m\u001b[0;34m)\u001b[0m\u001b[0;34m\u001b[0m\u001b[0;34m\u001b[0m\u001b[0m\n\u001b[0m",
      "\u001b[0;32m/tmp/ipykernel_3695/4076857384.py\u001b[0m in \u001b[0;36mmake_wordcloud\u001b[0;34m(liste, increment)\u001b[0m\n\u001b[1;32m      8\u001b[0m     wc = wordcloud.WordCloud(width=1000,height=400, background_color='lightgrey', max_words=1628,relative_scaling=1,\n\u001b[1;32m      9\u001b[0m                              color_func = random_color_func, normalize_plurals=False)\n\u001b[0;32m---> 10\u001b[0;31m     \u001b[0mwc\u001b[0m\u001b[0;34m.\u001b[0m\u001b[0mgenerate_from_frequencies\u001b[0m\u001b[0;34m(\u001b[0m\u001b[0mwords\u001b[0m\u001b[0;34m)\u001b[0m\u001b[0;34m\u001b[0m\u001b[0;34m\u001b[0m\u001b[0m\n\u001b[0m\u001b[1;32m     11\u001b[0m     \u001b[0max1\u001b[0m\u001b[0;34m.\u001b[0m\u001b[0mimshow\u001b[0m\u001b[0;34m(\u001b[0m\u001b[0mwc\u001b[0m\u001b[0;34m,\u001b[0m \u001b[0minterpolation\u001b[0m\u001b[0;34m=\u001b[0m\u001b[0;34m\"bilinear\"\u001b[0m\u001b[0;34m)\u001b[0m\u001b[0;34m\u001b[0m\u001b[0;34m\u001b[0m\u001b[0m\n\u001b[1;32m     12\u001b[0m     \u001b[0max1\u001b[0m\u001b[0;34m.\u001b[0m\u001b[0maxis\u001b[0m\u001b[0;34m(\u001b[0m\u001b[0;34m'off'\u001b[0m\u001b[0;34m)\u001b[0m\u001b[0;34m\u001b[0m\u001b[0;34m\u001b[0m\u001b[0m\n",
      "\u001b[0;32m~/anaconda3/lib/python3.9/site-packages/wordcloud/wordcloud.py\u001b[0m in \u001b[0;36mgenerate_from_frequencies\u001b[0;34m(self, frequencies, max_font_size)\u001b[0m\n\u001b[1;32m    451\u001b[0m                 \u001b[0mfont_size\u001b[0m \u001b[0;34m=\u001b[0m \u001b[0mself\u001b[0m\u001b[0;34m.\u001b[0m\u001b[0mheight\u001b[0m\u001b[0;34m\u001b[0m\u001b[0;34m\u001b[0m\u001b[0m\n\u001b[1;32m    452\u001b[0m             \u001b[0;32melse\u001b[0m\u001b[0;34m:\u001b[0m\u001b[0;34m\u001b[0m\u001b[0;34m\u001b[0m\u001b[0m\n\u001b[0;32m--> 453\u001b[0;31m                 self.generate_from_frequencies(dict(frequencies[:2]),\n\u001b[0m\u001b[1;32m    454\u001b[0m                                                max_font_size=self.height)\n\u001b[1;32m    455\u001b[0m                 \u001b[0;31m# find font sizes\u001b[0m\u001b[0;34m\u001b[0m\u001b[0;34m\u001b[0m\u001b[0m\n",
      "\u001b[0;32m~/anaconda3/lib/python3.9/site-packages/wordcloud/wordcloud.py\u001b[0m in \u001b[0;36mgenerate_from_frequencies\u001b[0;34m(self, frequencies, max_font_size)\u001b[0m\n\u001b[1;32m    506\u001b[0m                     font, orientation=orientation)\n\u001b[1;32m    507\u001b[0m                 \u001b[0;31m# get size of resulting text\u001b[0m\u001b[0;34m\u001b[0m\u001b[0;34m\u001b[0m\u001b[0m\n\u001b[0;32m--> 508\u001b[0;31m                 \u001b[0mbox_size\u001b[0m \u001b[0;34m=\u001b[0m \u001b[0mdraw\u001b[0m\u001b[0;34m.\u001b[0m\u001b[0mtextbbox\u001b[0m\u001b[0;34m(\u001b[0m\u001b[0;34m(\u001b[0m\u001b[0;36m0\u001b[0m\u001b[0;34m,\u001b[0m \u001b[0;36m0\u001b[0m\u001b[0;34m)\u001b[0m\u001b[0;34m,\u001b[0m \u001b[0mword\u001b[0m\u001b[0;34m,\u001b[0m \u001b[0mfont\u001b[0m\u001b[0;34m=\u001b[0m\u001b[0mtransposed_font\u001b[0m\u001b[0;34m,\u001b[0m \u001b[0manchor\u001b[0m\u001b[0;34m=\u001b[0m\u001b[0;34m\"lt\"\u001b[0m\u001b[0;34m)\u001b[0m\u001b[0;34m\u001b[0m\u001b[0;34m\u001b[0m\u001b[0m\n\u001b[0m\u001b[1;32m    509\u001b[0m                 \u001b[0;31m# find possible places using integral image:\u001b[0m\u001b[0;34m\u001b[0m\u001b[0;34m\u001b[0m\u001b[0m\n\u001b[1;32m    510\u001b[0m                 result = occupancy.sample_position(box_size[3] + self.margin,\n",
      "\u001b[0;32m~/anaconda3/lib/python3.9/site-packages/PIL/ImageDraw.py\u001b[0m in \u001b[0;36mtextbbox\u001b[0;34m(self, xy, text, font, anchor, spacing, align, direction, features, language, stroke_width, embedded_color)\u001b[0m\n\u001b[1;32m    649\u001b[0m             \u001b[0mfont\u001b[0m \u001b[0;34m=\u001b[0m \u001b[0mself\u001b[0m\u001b[0;34m.\u001b[0m\u001b[0mgetfont\u001b[0m\u001b[0;34m(\u001b[0m\u001b[0;34m)\u001b[0m\u001b[0;34m\u001b[0m\u001b[0;34m\u001b[0m\u001b[0m\n\u001b[1;32m    650\u001b[0m         \u001b[0;32mif\u001b[0m \u001b[0;32mnot\u001b[0m \u001b[0misinstance\u001b[0m\u001b[0;34m(\u001b[0m\u001b[0mfont\u001b[0m\u001b[0;34m,\u001b[0m \u001b[0mImageFont\u001b[0m\u001b[0;34m.\u001b[0m\u001b[0mFreeTypeFont\u001b[0m\u001b[0;34m)\u001b[0m\u001b[0;34m:\u001b[0m\u001b[0;34m\u001b[0m\u001b[0;34m\u001b[0m\u001b[0m\n\u001b[0;32m--> 651\u001b[0;31m             \u001b[0;32mraise\u001b[0m \u001b[0mValueError\u001b[0m\u001b[0;34m(\u001b[0m\u001b[0;34m\"Only supported for TrueType fonts\"\u001b[0m\u001b[0;34m)\u001b[0m\u001b[0;34m\u001b[0m\u001b[0;34m\u001b[0m\u001b[0m\n\u001b[0m\u001b[1;32m    652\u001b[0m         \u001b[0mmode\u001b[0m \u001b[0;34m=\u001b[0m \u001b[0;34m\"RGBA\"\u001b[0m \u001b[0;32mif\u001b[0m \u001b[0membedded_color\u001b[0m \u001b[0;32melse\u001b[0m \u001b[0mself\u001b[0m\u001b[0;34m.\u001b[0m\u001b[0mfontmode\u001b[0m\u001b[0;34m\u001b[0m\u001b[0;34m\u001b[0m\u001b[0m\n\u001b[1;32m    653\u001b[0m         bbox = font.getbbox(\n",
      "\u001b[0;31mValueError\u001b[0m: Only supported for TrueType fonts"
     ]
    },
    {
     "data": {
      "image/png": "[encoded data removed]",
      "text/plain": [
       "<Figure size 1008x1008 with 1 Axes>"
      ]
     },
     "metadata": {},
     "output_type": "display_data"
    }
   ],
   "source": [
    "import wordcloud\n",
    "fig = plt.figure(1, figsize=(14,14))\n",
    "color = [0, 160, 130, 95, 280, 40, 330, 110, 25]\n",
    "for i in range(n_clusters):\n",
    "    list_cluster_occurences = occurance[i]\n",
    "    tone = color[i]\n",
    "    liste = []\n",
    "    for key, value in list_cluster_occurences.items():\n",
    "        liste.append([key, value])\n",
    "    liste.sort(key = lambda x:x[1], reverse = True)\n",
    "    make_wordcloud(liste, i+1)"
   ]
  },
  {
   "cell_type": "markdown",
   "metadata": {},
   "source": [
    "** Conclusions **\n",
    "1. Cluster number two contains all the items related to decoration and gifts.\n",
    "2. Cluster number 4 contains luxury items.\n",
    "3. Words like Vintage are common to most of the clusters."
   ]
  },
  {
   "cell_type": "markdown",
   "metadata": {},
   "source": [
    "## Dimensionality Reduction:\n",
    "> PCA"
   ]
  },
  {
   "cell_type": "code",
   "execution_count": 50,
   "metadata": {},
   "outputs": [],
   "source": [
    "from sklearn.decomposition import PCA"
   ]
  },
  {
   "cell_type": "code",
   "execution_count": 51,
   "metadata": {},
   "outputs": [],
   "source": [
    "pca = PCA()\n",
    "pca.fit(matrix)\n",
    "pca_samples = pca.transform(matrix)"
   ]
  },
  {
   "cell_type": "code",
   "execution_count": 52,
   "metadata": {},
   "outputs": [
    {
     "data": {
      "image/png": "[encoded data removed]",
      "text/plain": [
       "<Figure size 1008x360 with 1 Axes>"
      ]
     },
     "metadata": {},
     "output_type": "display_data"
    }
   ],
   "source": [
    "# Checking the amount of variance explained :\n",
    "fig, ax = plt.subplots(figsize=(14, 5))\n",
    "sns.set(font_scale=1)\n",
    "plt.step(range(matrix.shape[1]), pca.explained_variance_ratio_.cumsum(), where = 'mid', label = 'Cummulative Variance Explained')\n",
    "sns.barplot(np.arange(1, matrix.shape[1] + 1), pca.explained_variance_ratio_, alpha = 0.5, color = 'g',\n",
    "            label = 'Individual Variance Explained')\n",
    "plt.xlim(0, 100)\n",
    "plt.xticks(rotation = 45, fontsize = 14)\n",
    "ax.set_xticklabels([s if int(s.get_text())%2 == 0 else '' for s in ax.get_xticklabels()])\n",
    "\n",
    "plt.ylabel(\"Explained Variance\", fontsize = 14)\n",
    "plt.xlabel(\"Principal Components\", fontsize = 14)\n",
    "plt.legend(loc = 'upper left', fontsize = 13)\n",
    "plt.show()"
   ]
  },
  {
   "cell_type": "markdown",
   "metadata": {},
   "source": [
    "We need more than 100 Principal Components to explain more than 90 % of the variance.\n",
    "<br>\n",
    "\n",
    "## Generating Customer Segments/Categories :\n",
    "1. We will use the already generated product categories and create a new feature which tells to which category the product belongs to."
   ]
  },
  {
   "cell_type": "code",
   "execution_count": 53,
   "metadata": {},
   "outputs": [
    {
     "data": {
      "text/html": [
       "<div>\n",
       "<style scoped>\n",
       "    .dataframe tbody tr th:only-of-type {\n",
       "        vertical-align: middle;\n",
       "    }\n",
       "\n",
       "    .dataframe tbody tr th {\n",
       "        vertical-align: top;\n",
       "    }\n",
       "\n",
       "    .dataframe thead th {\n",
       "        text-align: right;\n",
       "    }\n",
       "</style>\n",
       "<table border=\"1\" class=\"dataframe\">\n",
       "  <thead>\n",
       "    <tr style=\"text-align: right;\">\n",
       "      <th></th>\n",
       "      <th>InvoiceNo</th>\n",
       "      <th>Description</th>\n",
       "      <th>categ_product</th>\n",
       "    </tr>\n",
       "  </thead>\n",
       "  <tbody>\n",
       "    <tr>\n",
       "      <th>0</th>\n",
       "      <td>536365</td>\n",
       "      <td>WHITE HANGING HEART T-LIGHT HOLDER</td>\n",
       "      <td>1</td>\n",
       "    </tr>\n",
       "    <tr>\n",
       "      <th>1</th>\n",
       "      <td>536365</td>\n",
       "      <td>WHITE METAL LANTERN</td>\n",
       "      <td>0</td>\n",
       "    </tr>\n",
       "    <tr>\n",
       "      <th>2</th>\n",
       "      <td>536365</td>\n",
       "      <td>CREAM CUPID HEARTS COAT HANGER</td>\n",
       "      <td>0</td>\n",
       "    </tr>\n",
       "    <tr>\n",
       "      <th>3</th>\n",
       "      <td>536365</td>\n",
       "      <td>KNITTED UNION FLAG HOT WATER BOTTLE</td>\n",
       "      <td>0</td>\n",
       "    </tr>\n",
       "    <tr>\n",
       "      <th>4</th>\n",
       "      <td>536365</td>\n",
       "      <td>RED WOOLLY HOTTIE WHITE HEART.</td>\n",
       "      <td>0</td>\n",
       "    </tr>\n",
       "    <tr>\n",
       "      <th>5</th>\n",
       "      <td>536365</td>\n",
       "      <td>SET 7 BABUSHKA NESTING BOXES</td>\n",
       "      <td>4</td>\n",
       "    </tr>\n",
       "    <tr>\n",
       "      <th>6</th>\n",
       "      <td>536365</td>\n",
       "      <td>GLASS STAR FROSTED T-LIGHT HOLDER</td>\n",
       "      <td>0</td>\n",
       "    </tr>\n",
       "    <tr>\n",
       "      <th>7</th>\n",
       "      <td>536366</td>\n",
       "      <td>HAND WARMER UNION JACK</td>\n",
       "      <td>1</td>\n",
       "    </tr>\n",
       "    <tr>\n",
       "      <th>8</th>\n",
       "      <td>536366</td>\n",
       "      <td>HAND WARMER RED POLKA DOT</td>\n",
       "      <td>2</td>\n",
       "    </tr>\n",
       "    <tr>\n",
       "      <th>9</th>\n",
       "      <td>536367</td>\n",
       "      <td>ASSORTED COLOUR BIRD ORNAMENT</td>\n",
       "      <td>2</td>\n",
       "    </tr>\n",
       "  </tbody>\n",
       "</table>\n",
       "</div>"
      ],
      "text/plain": [
       "  InvoiceNo                          Description  categ_product\n",
       "0    536365   WHITE HANGING HEART T-LIGHT HOLDER              1\n",
       "1    536365                  WHITE METAL LANTERN              0\n",
       "2    536365       CREAM CUPID HEARTS COAT HANGER              0\n",
       "3    536365  KNITTED UNION FLAG HOT WATER BOTTLE              0\n",
       "4    536365       RED WOOLLY HOTTIE WHITE HEART.              0\n",
       "5    536365         SET 7 BABUSHKA NESTING BOXES              4\n",
       "6    536365    GLASS STAR FROSTED T-LIGHT HOLDER              0\n",
       "7    536366               HAND WARMER UNION JACK              1\n",
       "8    536366            HAND WARMER RED POLKA DOT              2\n",
       "9    536367        ASSORTED COLOUR BIRD ORNAMENT              2"
      ]
     },
     "execution_count": 53,
     "metadata": {},
     "output_type": "execute_result"
    }
   ],
   "source": [
    "corresp = dict()\n",
    "for key, val in zip(liste_produits, clusters):\n",
    "    corresp[key] = val\n",
    "    \n",
    "df_cleaned['categ_product'] = df_cleaned.loc[:, 'Description'].map(corresp)\n",
    "df_cleaned[['InvoiceNo', 'Description', 'categ_product']][:10]"
   ]
  },
  {
   "cell_type": "code",
   "execution_count": 54,
   "metadata": {},
   "outputs": [
    {
     "data": {
      "text/html": [
       "<div>\n",
       "<style scoped>\n",
       "    .dataframe tbody tr th:only-of-type {\n",
       "        vertical-align: middle;\n",
       "    }\n",
       "\n",
       "    .dataframe tbody tr th {\n",
       "        vertical-align: top;\n",
       "    }\n",
       "\n",
       "    .dataframe thead th {\n",
       "        text-align: right;\n",
       "    }\n",
       "</style>\n",
       "<table border=\"1\" class=\"dataframe\">\n",
       "  <thead>\n",
       "    <tr style=\"text-align: right;\">\n",
       "      <th></th>\n",
       "      <th>InvoiceNo</th>\n",
       "      <th>Description</th>\n",
       "      <th>categ_product</th>\n",
       "      <th>categ_0</th>\n",
       "      <th>categ_1</th>\n",
       "      <th>categ_2</th>\n",
       "      <th>categ_3</th>\n",
       "      <th>categ_4</th>\n",
       "    </tr>\n",
       "  </thead>\n",
       "  <tbody>\n",
       "    <tr>\n",
       "      <th>0</th>\n",
       "      <td>536365</td>\n",
       "      <td>WHITE HANGING HEART T-LIGHT HOLDER</td>\n",
       "      <td>1</td>\n",
       "      <td>0.00</td>\n",
       "      <td>15.3</td>\n",
       "      <td>0.00</td>\n",
       "      <td>0.0</td>\n",
       "      <td>0.0</td>\n",
       "    </tr>\n",
       "    <tr>\n",
       "      <th>1</th>\n",
       "      <td>536365</td>\n",
       "      <td>WHITE METAL LANTERN</td>\n",
       "      <td>0</td>\n",
       "      <td>20.34</td>\n",
       "      <td>0.0</td>\n",
       "      <td>0.00</td>\n",
       "      <td>0.0</td>\n",
       "      <td>0.0</td>\n",
       "    </tr>\n",
       "    <tr>\n",
       "      <th>2</th>\n",
       "      <td>536365</td>\n",
       "      <td>CREAM CUPID HEARTS COAT HANGER</td>\n",
       "      <td>0</td>\n",
       "      <td>22.00</td>\n",
       "      <td>0.0</td>\n",
       "      <td>0.00</td>\n",
       "      <td>0.0</td>\n",
       "      <td>0.0</td>\n",
       "    </tr>\n",
       "    <tr>\n",
       "      <th>3</th>\n",
       "      <td>536365</td>\n",
       "      <td>KNITTED UNION FLAG HOT WATER BOTTLE</td>\n",
       "      <td>0</td>\n",
       "      <td>20.34</td>\n",
       "      <td>0.0</td>\n",
       "      <td>0.00</td>\n",
       "      <td>0.0</td>\n",
       "      <td>0.0</td>\n",
       "    </tr>\n",
       "    <tr>\n",
       "      <th>4</th>\n",
       "      <td>536365</td>\n",
       "      <td>RED WOOLLY HOTTIE WHITE HEART.</td>\n",
       "      <td>0</td>\n",
       "      <td>20.34</td>\n",
       "      <td>0.0</td>\n",
       "      <td>0.00</td>\n",
       "      <td>0.0</td>\n",
       "      <td>0.0</td>\n",
       "    </tr>\n",
       "    <tr>\n",
       "      <th>5</th>\n",
       "      <td>536365</td>\n",
       "      <td>SET 7 BABUSHKA NESTING BOXES</td>\n",
       "      <td>4</td>\n",
       "      <td>0.00</td>\n",
       "      <td>0.0</td>\n",
       "      <td>0.00</td>\n",
       "      <td>0.0</td>\n",
       "      <td>15.3</td>\n",
       "    </tr>\n",
       "    <tr>\n",
       "      <th>6</th>\n",
       "      <td>536365</td>\n",
       "      <td>GLASS STAR FROSTED T-LIGHT HOLDER</td>\n",
       "      <td>0</td>\n",
       "      <td>25.50</td>\n",
       "      <td>0.0</td>\n",
       "      <td>0.00</td>\n",
       "      <td>0.0</td>\n",
       "      <td>0.0</td>\n",
       "    </tr>\n",
       "    <tr>\n",
       "      <th>7</th>\n",
       "      <td>536366</td>\n",
       "      <td>HAND WARMER UNION JACK</td>\n",
       "      <td>1</td>\n",
       "      <td>0.00</td>\n",
       "      <td>11.1</td>\n",
       "      <td>0.00</td>\n",
       "      <td>0.0</td>\n",
       "      <td>0.0</td>\n",
       "    </tr>\n",
       "    <tr>\n",
       "      <th>8</th>\n",
       "      <td>536366</td>\n",
       "      <td>HAND WARMER RED POLKA DOT</td>\n",
       "      <td>2</td>\n",
       "      <td>0.00</td>\n",
       "      <td>0.0</td>\n",
       "      <td>11.10</td>\n",
       "      <td>0.0</td>\n",
       "      <td>0.0</td>\n",
       "    </tr>\n",
       "    <tr>\n",
       "      <th>9</th>\n",
       "      <td>536367</td>\n",
       "      <td>ASSORTED COLOUR BIRD ORNAMENT</td>\n",
       "      <td>2</td>\n",
       "      <td>0.00</td>\n",
       "      <td>0.0</td>\n",
       "      <td>54.08</td>\n",
       "      <td>0.0</td>\n",
       "      <td>0.0</td>\n",
       "    </tr>\n",
       "  </tbody>\n",
       "</table>\n",
       "</div>"
      ],
      "text/plain": [
       "  InvoiceNo                          Description  categ_product  categ_0  \\\n",
       "0    536365   WHITE HANGING HEART T-LIGHT HOLDER              1     0.00   \n",
       "1    536365                  WHITE METAL LANTERN              0    20.34   \n",
       "2    536365       CREAM CUPID HEARTS COAT HANGER              0    22.00   \n",
       "3    536365  KNITTED UNION FLAG HOT WATER BOTTLE              0    20.34   \n",
       "4    536365       RED WOOLLY HOTTIE WHITE HEART.              0    20.34   \n",
       "5    536365         SET 7 BABUSHKA NESTING BOXES              4     0.00   \n",
       "6    536365    GLASS STAR FROSTED T-LIGHT HOLDER              0    25.50   \n",
       "7    536366               HAND WARMER UNION JACK              1     0.00   \n",
       "8    536366            HAND WARMER RED POLKA DOT              2     0.00   \n",
       "9    536367        ASSORTED COLOUR BIRD ORNAMENT              2     0.00   \n",
       "\n",
       "   categ_1  categ_2  categ_3  categ_4  \n",
       "0     15.3     0.00      0.0      0.0  \n",
       "1      0.0     0.00      0.0      0.0  \n",
       "2      0.0     0.00      0.0      0.0  \n",
       "3      0.0     0.00      0.0      0.0  \n",
       "4      0.0     0.00      0.0      0.0  \n",
       "5      0.0     0.00      0.0     15.3  \n",
       "6      0.0     0.00      0.0      0.0  \n",
       "7     11.1     0.00      0.0      0.0  \n",
       "8      0.0    11.10      0.0      0.0  \n",
       "9      0.0    54.08      0.0      0.0  "
      ]
     },
     "execution_count": 54,
     "metadata": {},
     "output_type": "execute_result"
    }
   ],
   "source": [
    "# Creating 5 new features that will contain the amount in a single transanction on different categories of product. filling empty values with 0.\n",
    "for i in range(5):\n",
    "    col = 'categ_{}'.format(i)\n",
    "    df_temp = df_cleaned[df_cleaned['categ_product'] == i]\n",
    "    # Getting the total price for the specifc transaction.\n",
    "    price_temp = df_temp['UnitPrice'] * (df_temp['Quantity'] - df_temp['QuantityCancelled'])\n",
    "    price_temp = price_temp.apply(lambda x:x if x > 0 else 0)\n",
    "    df_cleaned.loc[:, col] = price_temp\n",
    "    df_cleaned[col].fillna(0, inplace = True)\n",
    "    \n",
    "df_cleaned[['InvoiceNo', 'Description', 'categ_product', 'categ_0', 'categ_1', 'categ_2', 'categ_3', 'categ_4']][:10]"
   ]
  },
  {
   "cell_type": "markdown",
   "metadata": {},
   "source": [
    "##### A single order is split into multiple entries we will basket them :"
   ]
  },
  {
   "cell_type": "code",
   "execution_count": 67,
   "metadata": {},
   "outputs": [
    {
     "data": {
      "text/html": [
       "<div>\n",
       "<style scoped>\n",
       "    .dataframe tbody tr th:only-of-type {\n",
       "        vertical-align: middle;\n",
       "    }\n",
       "\n",
       "    .dataframe tbody tr th {\n",
       "        vertical-align: top;\n",
       "    }\n",
       "\n",
       "    .dataframe thead th {\n",
       "        text-align: right;\n",
       "    }\n",
       "</style>\n",
       "<table border=\"1\" class=\"dataframe\">\n",
       "  <thead>\n",
       "    <tr style=\"text-align: right;\">\n",
       "      <th></th>\n",
       "      <th>CustomerID</th>\n",
       "      <th>InvoiceNo</th>\n",
       "      <th>Basket Price</th>\n",
       "      <th>categ_0</th>\n",
       "      <th>categ_1</th>\n",
       "      <th>categ_2</th>\n",
       "      <th>categ_3</th>\n",
       "      <th>categ_4</th>\n",
       "      <th>InvoiceDate</th>\n",
       "    </tr>\n",
       "  </thead>\n",
       "  <tbody>\n",
       "    <tr>\n",
       "      <th>1</th>\n",
       "      <td>12347.0</td>\n",
       "      <td>537626</td>\n",
       "      <td>711.79</td>\n",
       "      <td>293.35</td>\n",
       "      <td>83.40</td>\n",
       "      <td>187.2</td>\n",
       "      <td>23.40</td>\n",
       "      <td>124.44</td>\n",
       "      <td>2010-12-07 14:57:00.000000000</td>\n",
       "    </tr>\n",
       "    <tr>\n",
       "      <th>2</th>\n",
       "      <td>12347.0</td>\n",
       "      <td>542237</td>\n",
       "      <td>475.39</td>\n",
       "      <td>169.20</td>\n",
       "      <td>53.10</td>\n",
       "      <td>130.5</td>\n",
       "      <td>84.34</td>\n",
       "      <td>38.25</td>\n",
       "      <td>2011-01-26 14:29:59.999999744</td>\n",
       "    </tr>\n",
       "    <tr>\n",
       "      <th>3</th>\n",
       "      <td>12347.0</td>\n",
       "      <td>549222</td>\n",
       "      <td>636.25</td>\n",
       "      <td>115.00</td>\n",
       "      <td>71.10</td>\n",
       "      <td>330.9</td>\n",
       "      <td>81.00</td>\n",
       "      <td>38.25</td>\n",
       "      <td>2011-04-07 10:43:00.000000000</td>\n",
       "    </tr>\n",
       "    <tr>\n",
       "      <th>4</th>\n",
       "      <td>12347.0</td>\n",
       "      <td>556201</td>\n",
       "      <td>382.52</td>\n",
       "      <td>168.76</td>\n",
       "      <td>78.06</td>\n",
       "      <td>74.4</td>\n",
       "      <td>41.40</td>\n",
       "      <td>19.90</td>\n",
       "      <td>2011-06-09 13:01:00.000000000</td>\n",
       "    </tr>\n",
       "    <tr>\n",
       "      <th>5</th>\n",
       "      <td>12347.0</td>\n",
       "      <td>562032</td>\n",
       "      <td>584.91</td>\n",
       "      <td>158.16</td>\n",
       "      <td>119.70</td>\n",
       "      <td>109.7</td>\n",
       "      <td>61.30</td>\n",
       "      <td>136.05</td>\n",
       "      <td>2011-08-02 08:48:00.000000000</td>\n",
       "    </tr>\n",
       "  </tbody>\n",
       "</table>\n",
       "</div>"
      ],
      "text/plain": [
       "   CustomerID InvoiceNo  Basket Price  categ_0  categ_1  categ_2  categ_3  \\\n",
       "1     12347.0    537626        711.79   293.35    83.40    187.2    23.40   \n",
       "2     12347.0    542237        475.39   169.20    53.10    130.5    84.34   \n",
       "3     12347.0    549222        636.25   115.00    71.10    330.9    81.00   \n",
       "4     12347.0    556201        382.52   168.76    78.06     74.4    41.40   \n",
       "5     12347.0    562032        584.91   158.16   119.70    109.7    61.30   \n",
       "\n",
       "   categ_4                   InvoiceDate  \n",
       "1   124.44 2010-12-07 14:57:00.000000000  \n",
       "2    38.25 2011-01-26 14:29:59.999999744  \n",
       "3    38.25 2011-04-07 10:43:00.000000000  \n",
       "4    19.90 2011-06-09 13:01:00.000000000  \n",
       "5   136.05 2011-08-02 08:48:00.000000000  "
      ]
     },
     "execution_count": 67,
     "metadata": {},
     "output_type": "execute_result"
    }
   ],
   "source": [
    "# sum of purchases by user and order.\n",
    "temp = df_cleaned.groupby(by=['CustomerID', 'InvoiceNo'], as_index = False)['TotalPrice'].sum()\n",
    "basket_price = temp.rename(columns={'TotalPrice': 'Basket Price'})\n",
    "\n",
    "# percentage spent on each product category \n",
    "for i in range(5):\n",
    "    col = \"categ_{}\".format(i)\n",
    "    temp = df_cleaned.groupby(by=['CustomerID', 'InvoiceNo'], as_index = False)[col].sum()\n",
    "    basket_price.loc[:, col] = temp[col]\n",
    "\n",
    "# Dates of the order.\n",
    "df_cleaned['InvoiceDate_int'] = df_cleaned['InvoiceDate'].astype('int64')\n",
    "temp = df_cleaned.groupby(by=['CustomerID', 'InvoiceNo'], as_index = False)['InvoiceDate_int'].mean()\n",
    "df_cleaned.drop('InvoiceDate_int', axis = 1, inplace=True)\n",
    "basket_price.loc[:, 'InvoiceDate'] = pd.to_datetime(temp['InvoiceDate_int'])\n",
    "\n",
    "# Selecting entries with basket price > 0.\n",
    "basket_price = basket_price[basket_price['Basket Price'] > 0]\n",
    "basket_price.sort_values('CustomerID', ascending=True)[:5]"
   ]
  },
  {
   "cell_type": "code",
   "execution_count": 68,
   "metadata": {},
   "outputs": [
    {
     "data": {
      "text/plain": [
       "Timestamp('2010-12-01 08:26:00')"
      ]
     },
     "execution_count": 68,
     "metadata": {},
     "output_type": "execute_result"
    }
   ],
   "source": [
    "basket_price['InvoiceDate'].min()"
   ]
  },
  {
   "cell_type": "code",
   "execution_count": 70,
   "metadata": {},
   "outputs": [
    {
     "data": {
      "text/plain": [
       "Timestamp('2011-12-09 12:50:00')"
      ]
     },
     "execution_count": 70,
     "metadata": {},
     "output_type": "execute_result"
    }
   ],
   "source": [
    "basket_price['InvoiceDate'].max()"
   ]
  },
  {
   "cell_type": "markdown",
   "metadata": {},
   "source": [
    "We have invoice for 1 year range\n",
    "\n",
    "##### Grouping Orders:\n",
    "\n",
    "We will get info about every customer on how much do they purchase, total number of orders. etc"
   ]
  },
  {
   "cell_type": "code",
   "execution_count": 74,
   "metadata": {},
   "outputs": [
    {
     "data": {
      "text/html": [
       "<div>\n",
       "<style scoped>\n",
       "    .dataframe tbody tr th:only-of-type {\n",
       "        vertical-align: middle;\n",
       "    }\n",
       "\n",
       "    .dataframe tbody tr th {\n",
       "        vertical-align: top;\n",
       "    }\n",
       "\n",
       "    .dataframe thead th {\n",
       "        text-align: right;\n",
       "    }\n",
       "</style>\n",
       "<table border=\"1\" class=\"dataframe\">\n",
       "  <thead>\n",
       "    <tr style=\"text-align: right;\">\n",
       "      <th></th>\n",
       "      <th>CustomerID</th>\n",
       "      <th>count</th>\n",
       "      <th>min</th>\n",
       "      <th>max</th>\n",
       "      <th>mean</th>\n",
       "      <th>sum</th>\n",
       "      <th>categ_0</th>\n",
       "      <th>categ_1</th>\n",
       "      <th>categ_2</th>\n",
       "      <th>categ_3</th>\n",
       "      <th>categ_4</th>\n",
       "    </tr>\n",
       "  </thead>\n",
       "  <tbody>\n",
       "    <tr>\n",
       "      <th>0</th>\n",
       "      <td>12347.0</td>\n",
       "      <td>7</td>\n",
       "      <td>224.82</td>\n",
       "      <td>1294.32</td>\n",
       "      <td>615.714286</td>\n",
       "      <td>4310.00</td>\n",
       "      <td>29.540371</td>\n",
       "      <td>20.805104</td>\n",
       "      <td>26.375870</td>\n",
       "      <td>11.237123</td>\n",
       "      <td>12.041531</td>\n",
       "    </tr>\n",
       "    <tr>\n",
       "      <th>1</th>\n",
       "      <td>12348.0</td>\n",
       "      <td>4</td>\n",
       "      <td>227.44</td>\n",
       "      <td>892.80</td>\n",
       "      <td>449.310000</td>\n",
       "      <td>1797.24</td>\n",
       "      <td>0.000000</td>\n",
       "      <td>0.000000</td>\n",
       "      <td>41.953217</td>\n",
       "      <td>38.016069</td>\n",
       "      <td>20.030714</td>\n",
       "    </tr>\n",
       "    <tr>\n",
       "      <th>2</th>\n",
       "      <td>12349.0</td>\n",
       "      <td>1</td>\n",
       "      <td>1757.55</td>\n",
       "      <td>1757.55</td>\n",
       "      <td>1757.550000</td>\n",
       "      <td>1757.55</td>\n",
       "      <td>10.713778</td>\n",
       "      <td>12.245455</td>\n",
       "      <td>26.506216</td>\n",
       "      <td>4.513101</td>\n",
       "      <td>46.021450</td>\n",
       "    </tr>\n",
       "    <tr>\n",
       "      <th>3</th>\n",
       "      <td>12350.0</td>\n",
       "      <td>1</td>\n",
       "      <td>334.40</td>\n",
       "      <td>334.40</td>\n",
       "      <td>334.400000</td>\n",
       "      <td>334.40</td>\n",
       "      <td>0.000000</td>\n",
       "      <td>27.900718</td>\n",
       "      <td>48.444976</td>\n",
       "      <td>11.692584</td>\n",
       "      <td>11.961722</td>\n",
       "    </tr>\n",
       "    <tr>\n",
       "      <th>4</th>\n",
       "      <td>12352.0</td>\n",
       "      <td>7</td>\n",
       "      <td>144.35</td>\n",
       "      <td>840.30</td>\n",
       "      <td>340.815714</td>\n",
       "      <td>2385.71</td>\n",
       "      <td>14.601523</td>\n",
       "      <td>4.071325</td>\n",
       "      <td>15.705178</td>\n",
       "      <td>1.299404</td>\n",
       "      <td>64.322571</td>\n",
       "    </tr>\n",
       "  </tbody>\n",
       "</table>\n",
       "</div>"
      ],
      "text/plain": [
       "   CustomerID  count      min      max         mean      sum    categ_0  \\\n",
       "0     12347.0      7   224.82  1294.32   615.714286  4310.00  29.540371   \n",
       "1     12348.0      4   227.44   892.80   449.310000  1797.24   0.000000   \n",
       "2     12349.0      1  1757.55  1757.55  1757.550000  1757.55  10.713778   \n",
       "3     12350.0      1   334.40   334.40   334.400000   334.40   0.000000   \n",
       "4     12352.0      7   144.35   840.30   340.815714  2385.71  14.601523   \n",
       "\n",
       "     categ_1    categ_2    categ_3    categ_4  \n",
       "0  20.805104  26.375870  11.237123  12.041531  \n",
       "1   0.000000  41.953217  38.016069  20.030714  \n",
       "2  12.245455  26.506216   4.513101  46.021450  \n",
       "3  27.900718  48.444976  11.692584  11.961722  \n",
       "4   4.071325  15.705178   1.299404  64.322571  "
      ]
     },
     "execution_count": 74,
     "metadata": {},
     "output_type": "execute_result"
    }
   ],
   "source": [
    "transanctions_per_user = basket_price.groupby(by=['CustomerID'])['Basket Price'].agg(['count', 'min', 'max', 'mean', 'sum'])\n",
    "\n",
    "# percentage of amout by category\n",
    "for i in range(5):\n",
    "    col = 'categ_{}'.format(i)\n",
    "    transanctions_per_user.loc[:, col] = basket_price.groupby(by=['CustomerID'])[col].sum() / transanctions_per_user['sum'] * 100\n",
    "    \n",
    "transanctions_per_user.reset_index(drop = False, inplace = True)\n",
    "basket_price.groupby(by=['CustomerID'])['categ_0'].sum()\n",
    "transanctions_per_user.sort_values('CustomerID', ascending = True).head()"
   ]
  },
  {
   "cell_type": "code",
   "execution_count": 75,
   "metadata": {},
   "outputs": [
    {
     "data": {
      "text/html": [
       "<div>\n",
       "<style scoped>\n",
       "    .dataframe tbody tr th:only-of-type {\n",
       "        vertical-align: middle;\n",
       "    }\n",
       "\n",
       "    .dataframe tbody tr th {\n",
       "        vertical-align: top;\n",
       "    }\n",
       "\n",
       "    .dataframe thead th {\n",
       "        text-align: right;\n",
       "    }\n",
       "</style>\n",
       "<table border=\"1\" class=\"dataframe\">\n",
       "  <thead>\n",
       "    <tr style=\"text-align: right;\">\n",
       "      <th></th>\n",
       "      <th>CustomerID</th>\n",
       "      <th>count</th>\n",
       "      <th>min</th>\n",
       "      <th>max</th>\n",
       "      <th>mean</th>\n",
       "      <th>sum</th>\n",
       "      <th>categ_0</th>\n",
       "      <th>categ_1</th>\n",
       "      <th>categ_2</th>\n",
       "      <th>categ_3</th>\n",
       "      <th>categ_4</th>\n",
       "      <th>LastPurchase</th>\n",
       "      <th>FirstPurchase</th>\n",
       "    </tr>\n",
       "  </thead>\n",
       "  <tbody>\n",
       "    <tr>\n",
       "      <th>0</th>\n",
       "      <td>12347.0</td>\n",
       "      <td>7</td>\n",
       "      <td>224.82</td>\n",
       "      <td>1294.32</td>\n",
       "      <td>615.714286</td>\n",
       "      <td>4310.00</td>\n",
       "      <td>29.540371</td>\n",
       "      <td>20.805104</td>\n",
       "      <td>26.375870</td>\n",
       "      <td>11.237123</td>\n",
       "      <td>12.041531</td>\n",
       "      <td>2</td>\n",
       "      <td>367</td>\n",
       "    </tr>\n",
       "    <tr>\n",
       "      <th>1</th>\n",
       "      <td>12348.0</td>\n",
       "      <td>4</td>\n",
       "      <td>227.44</td>\n",
       "      <td>892.80</td>\n",
       "      <td>449.310000</td>\n",
       "      <td>1797.24</td>\n",
       "      <td>0.000000</td>\n",
       "      <td>0.000000</td>\n",
       "      <td>41.953217</td>\n",
       "      <td>38.016069</td>\n",
       "      <td>20.030714</td>\n",
       "      <td>75</td>\n",
       "      <td>358</td>\n",
       "    </tr>\n",
       "    <tr>\n",
       "      <th>2</th>\n",
       "      <td>12349.0</td>\n",
       "      <td>1</td>\n",
       "      <td>1757.55</td>\n",
       "      <td>1757.55</td>\n",
       "      <td>1757.550000</td>\n",
       "      <td>1757.55</td>\n",
       "      <td>10.713778</td>\n",
       "      <td>12.245455</td>\n",
       "      <td>26.506216</td>\n",
       "      <td>4.513101</td>\n",
       "      <td>46.021450</td>\n",
       "      <td>18</td>\n",
       "      <td>18</td>\n",
       "    </tr>\n",
       "    <tr>\n",
       "      <th>3</th>\n",
       "      <td>12350.0</td>\n",
       "      <td>1</td>\n",
       "      <td>334.40</td>\n",
       "      <td>334.40</td>\n",
       "      <td>334.400000</td>\n",
       "      <td>334.40</td>\n",
       "      <td>0.000000</td>\n",
       "      <td>27.900718</td>\n",
       "      <td>48.444976</td>\n",
       "      <td>11.692584</td>\n",
       "      <td>11.961722</td>\n",
       "      <td>310</td>\n",
       "      <td>310</td>\n",
       "    </tr>\n",
       "    <tr>\n",
       "      <th>4</th>\n",
       "      <td>12352.0</td>\n",
       "      <td>7</td>\n",
       "      <td>144.35</td>\n",
       "      <td>840.30</td>\n",
       "      <td>340.815714</td>\n",
       "      <td>2385.71</td>\n",
       "      <td>14.601523</td>\n",
       "      <td>4.071325</td>\n",
       "      <td>15.705178</td>\n",
       "      <td>1.299404</td>\n",
       "      <td>64.322571</td>\n",
       "      <td>36</td>\n",
       "      <td>296</td>\n",
       "    </tr>\n",
       "  </tbody>\n",
       "</table>\n",
       "</div>"
      ],
      "text/plain": [
       "   CustomerID  count      min      max         mean      sum    categ_0  \\\n",
       "0     12347.0      7   224.82  1294.32   615.714286  4310.00  29.540371   \n",
       "1     12348.0      4   227.44   892.80   449.310000  1797.24   0.000000   \n",
       "2     12349.0      1  1757.55  1757.55  1757.550000  1757.55  10.713778   \n",
       "3     12350.0      1   334.40   334.40   334.400000   334.40   0.000000   \n",
       "4     12352.0      7   144.35   840.30   340.815714  2385.71  14.601523   \n",
       "\n",
       "     categ_1    categ_2    categ_3    categ_4  LastPurchase  FirstPurchase  \n",
       "0  20.805104  26.375870  11.237123  12.041531             2            367  \n",
       "1   0.000000  41.953217  38.016069  20.030714            75            358  \n",
       "2  12.245455  26.506216   4.513101  46.021450            18             18  \n",
       "3  27.900718  48.444976  11.692584  11.961722           310            310  \n",
       "4   4.071325  15.705178   1.299404  64.322571            36            296  "
      ]
     },
     "execution_count": 75,
     "metadata": {},
     "output_type": "execute_result"
    }
   ],
   "source": [
    "# Generating two new variables - days since first puchase and days since last purchase.\n",
    "last_date = basket_price['InvoiceDate'].max().date()\n",
    "\n",
    "first_registration = pd.DataFrame(basket_price.groupby(by=['CustomerID'])['InvoiceDate'].min())\n",
    "last_purchase = pd.DataFrame(basket_price.groupby(by=['CustomerID'])['InvoiceDate'].max())\n",
    "\n",
    "test = first_registration.applymap(lambda x:(last_date - x.date()).days)\n",
    "test2 = last_purchase.applymap(lambda x:(last_date - x.date()).days)\n",
    "\n",
    "transanctions_per_user.loc[:, 'LastPurchase'] = test2.reset_index(drop = False)['InvoiceDate']\n",
    "transanctions_per_user.loc[:, 'FirstPurchase'] = test.reset_index(drop = False)['InvoiceDate']\n",
    "transanctions_per_user.head()"
   ]
  },
  {
   "cell_type": "markdown",
   "metadata": {},
   "source": [
    "#### We need to focus on customers who only placed one order, our objective is to target these customers in a way to retains them."
   ]
  },
  {
   "cell_type": "code",
   "execution_count": 76,
   "metadata": {},
   "outputs": [
    {
     "name": "stdout",
     "output_type": "stream",
     "text": [
      "No. of Customers with single purchase : 1489/4327  (34.41%)\n"
     ]
    }
   ],
   "source": [
    "n1 = transanctions_per_user[transanctions_per_user['count'] == 1].shape[0]\n",
    "n2 = transanctions_per_user.shape[0]\n",
    "print(\"No. of Customers with single purchase : {:<2}/{:<5} ({:<2.2f}%)\".format(n1, n2, n1/n2*100))"
   ]
  },
  {
   "cell_type": "markdown",
   "metadata": {},
   "source": [
    "#### Building Customers Segements:"
   ]
  },
  {
   "cell_type": "code",
   "execution_count": 77,
   "metadata": {},
   "outputs": [],
   "source": [
    "list_cols = ['count', 'min', 'max', 'mean', 'categ_0', 'categ_1', 'categ_2', 'categ_3', 'categ_4']\n",
    "selected_customers = transanctions_per_user.copy(deep=True)\n",
    "matrix = selected_customers[list_cols].to_numpy()"
   ]
  },
  {
   "cell_type": "code",
   "execution_count": 79,
   "metadata": {},
   "outputs": [],
   "source": [
    "from sklearn.preprocessing import StandardScaler\n",
    "scaler = StandardScaler()\n",
    "scaler.fit(matrix)\n",
    "scaled_matrix = scaler.transform(matrix)"
   ]
  },
  {
   "cell_type": "code",
   "execution_count": 80,
   "metadata": {},
   "outputs": [],
   "source": [
    "pca = PCA()\n",
    "pca.fit(scaled_matrix)\n",
    "pca_samples = pca.transform(scaled_matrix)"
   ]
  },
  {
   "cell_type": "code",
   "execution_count": 81,
   "metadata": {},
   "outputs": [
    {
     "data": {
      "image/png": "[encoded data removed]",
      "text/plain": [
       "<Figure size 1008x360 with 1 Axes>"
      ]
     },
     "metadata": {},
     "output_type": "display_data"
    }
   ],
   "source": [
    "# Checking the amount of variance explained :\n",
    "fig, ax = plt.subplots(figsize=(14, 5))\n",
    "sns.set(font_scale=1)\n",
    "plt.step(range(matrix.shape[1]), pca.explained_variance_ratio_.cumsum(), where = 'mid', label = 'Cummulative Variance Explained')\n",
    "sns.barplot(np.arange(1, matrix.shape[1] + 1), pca.explained_variance_ratio_, alpha = 0.5, color = 'g',\n",
    "            label = 'Individual Variance Explained')\n",
    "plt.xlim(0, 10)\n",
    "plt.xticks(rotation = 45, fontsize = 14)\n",
    "ax.set_xticklabels([s if int(s.get_text())%2 == 0 else '' for s in ax.get_xticklabels()])\n",
    "\n",
    "plt.ylabel(\"Explained Variance\", fontsize = 14)\n",
    "plt.xlabel(\"Principal Components\", fontsize = 14)\n",
    "plt.legend(loc = 'upper left', fontsize = 13)\n",
    "plt.show()"
   ]
  },
  {
   "cell_type": "code",
   "execution_count": 82,
   "metadata": {},
   "outputs": [
    {
     "name": "stdout",
     "output_type": "stream",
     "text": [
      "For n_clusters :  3 The average silhouette_score is :  0.1584466640702452\n",
      "For n_clusters :  4 The average silhouette_score is :  0.15268865780743088\n",
      "For n_clusters :  5 The average silhouette_score is :  0.16698250587221639\n",
      "For n_clusters :  6 The average silhouette_score is :  0.17124700848815227\n",
      "For n_clusters :  7 The average silhouette_score is :  0.18927527520682924\n",
      "For n_clusters :  8 The average silhouette_score is :  0.19244649458409227\n",
      "For n_clusters :  9 The average silhouette_score is :  0.21354617368529877\n",
      "For n_clusters :  10 The average silhouette_score is :  0.21337504797130993\n",
      "For n_clusters :  11 The average silhouette_score is :  0.22249986277359463\n",
      "For n_clusters :  12 The average silhouette_score is :  0.18328055667909068\n",
      "For n_clusters :  13 The average silhouette_score is :  0.1869428945650003\n",
      "For n_clusters :  14 The average silhouette_score is :  0.18743750029348066\n",
      "For n_clusters :  15 The average silhouette_score is :  0.18061771761375073\n",
      "For n_clusters :  16 The average silhouette_score is :  0.18472789123520322\n",
      "For n_clusters :  17 The average silhouette_score is :  0.17547714057781003\n",
      "For n_clusters :  18 The average silhouette_score is :  0.17617719080313754\n",
      "For n_clusters :  19 The average silhouette_score is :  0.17662470059506497\n",
      "For n_clusters :  20 The average silhouette_score is :  0.17138849683394525\n"
     ]
    }
   ],
   "source": [
    "# Using optimal number of clusters using hyperparameter tuning:\n",
    "for n_clusters in range(3, 21):\n",
    "    kmeans = KMeans(init='k-means++', n_clusters = n_clusters, n_init = 30)\n",
    "    kmeans.fit(scaled_matrix)\n",
    "    clusters = kmeans.predict(scaled_matrix)\n",
    "    sil_avg = silhouette_score(scaled_matrix, clusters)\n",
    "    print(\"For n_clusters : \", n_clusters, \"The average silhouette_score is : \", sil_avg)"
   ]
  },
  {
   "cell_type": "code",
   "execution_count": 83,
   "metadata": {},
   "outputs": [
    {
     "name": "stdout",
     "output_type": "stream",
     "text": [
      "For n_clusters :  9 The average silhouette_score is :  0.2126338581917064\n"
     ]
    }
   ],
   "source": [
    "# Choosing number of clusters as 9:\n",
    "# Trying Improving the silhouette_score :\n",
    "n_clusters = 9\n",
    "sil_avg = -1\n",
    "while sil_avg < 0.208:\n",
    "    kmeans = KMeans(init = 'k-means++', n_clusters = n_clusters, n_init = 30)\n",
    "    kmeans.fit(scaled_matrix)\n",
    "    clusters = kmeans.predict(scaled_matrix)\n",
    "    sil_avg = silhouette_score(scaled_matrix, clusters)\n",
    "    print(\"For n_clusters : \", n_clusters, \"The average silhouette_score is : \", sil_avg)"
   ]
  },
  {
   "cell_type": "code",
   "execution_count": 84,
   "metadata": {},
   "outputs": [
    {
     "name": "stdout",
     "output_type": "stream",
     "text": [
      "Silhouette Score : 0.213\n"
     ]
    }
   ],
   "source": [
    "n_clusters = 9\n",
    "kmeans = KMeans(init = 'k-means++', n_clusters = n_clusters, n_init = 100)\n",
    "kmeans.fit(scaled_matrix)\n",
    "clusters_clients = kmeans.predict(scaled_matrix)\n",
    "silhouette_avg = silhouette_score(scaled_matrix, clusters_clients)\n",
    "print(\"Silhouette Score : {:<.3f}\".format(silhouette_avg))"
   ]
  },
  {
   "cell_type": "code",
   "execution_count": 100,
   "metadata": {},
   "outputs": [
    {
     "data": {
      "text/plain": [
       "cluster\n",
       "0          1879\n",
       "1           589\n",
       "5           579\n",
       "8           362\n",
       "6           355\n",
       "4           313\n",
       "7           208\n",
       "3            30\n",
       "2            12\n",
       "Name: count, dtype: int64"
      ]
     },
     "execution_count": 100,
     "metadata": {},
     "output_type": "execute_result"
    }
   ],
   "source": [
    "# Looking at clusters :\n",
    "pd.DataFrame(clusters_clients, columns=['cluster']).value_counts().T"
   ]
  },
  {
   "cell_type": "markdown",
   "metadata": {},
   "source": [
    "There is a large difference in cluster segments, We will analyze these clusters further."
   ]
  },
  {
   "cell_type": "code",
   "execution_count": 101,
   "metadata": {},
   "outputs": [
    {
     "data": {
      "image/png": "[encoded data removed]",
      "text/plain": [
       "<Figure size 576x576 with 1 Axes>"
      ]
     },
     "metadata": {},
     "output_type": "display_data"
    }
   ],
   "source": [
    "sample_silhouette_values = silhouette_samples(scaled_matrix, clusters_clients)\n",
    "\n",
    "graph_component_silhouette(n_clusters, [-0.15, 0.55], len(scaled_matrix), sample_silhouette_values, clusters_clients)"
   ]
  },
  {
   "cell_type": "markdown",
   "metadata": {},
   "source": [
    "From this above graph we can rest assured that all the clusters are disjoint"
   ]
  },
  {
   "cell_type": "markdown",
   "metadata": {},
   "source": [
    "##### Now we need to learn the habits of the customers to do that we will add the variables that define a cluster to which each customer belong:"
   ]
  },
  {
   "cell_type": "code",
   "execution_count": 103,
   "metadata": {},
   "outputs": [],
   "source": [
    "selected_customers.loc[:, 'cluster'] = clusters_clients"
   ]
  },
  {
   "cell_type": "code",
   "execution_count": 105,
   "metadata": {},
   "outputs": [
    {
     "name": "stdout",
     "output_type": "stream",
     "text": [
      "Number of customers: 4327\n"
     ]
    }
   ],
   "source": [
    "# Create an empty DataFrame to store merged results\n",
    "merged_df = pd.DataFrame()\n",
    "\n",
    "# Iterate through clusters\n",
    "for i in range(n_clusters):\n",
    "    # Create a DataFrame with the mean values of selected_customers for the current cluster\n",
    "    test = pd.DataFrame(selected_customers[selected_customers['cluster'] == i].mean())\n",
    "    \n",
    "    # Transpose the DataFrame and set 'cluster' as the index\n",
    "    test = test.T.set_index('cluster', drop=True)\n",
    "    \n",
    "    # Add a column 'size' with the number of customers in the current cluster\n",
    "    test['size'] = selected_customers[selected_customers['cluster'] == i].shape[0]\n",
    "    \n",
    "    # Concatenate the current cluster's results to the merged DataFrame\n",
    "    merged_df = pd.concat([merged_df, test])\n",
    "\n",
    "# Drop the 'CustomerID' column from the merged DataFrame\n",
    "merged_df.drop('CustomerID', axis=1, inplace=True)\n",
    "\n",
    "# Print the total number of customers\n",
    "print('Number of customers:', merged_df['size'].sum())\n",
    "\n",
    "# Sort the merged DataFrame by the 'sum' column\n",
    "merged_df = merged_df.sort_values('sum')\n"
   ]
  },
  {
   "cell_type": "code",
   "execution_count": 106,
   "metadata": {},
   "outputs": [
    {
     "data": {
      "text/html": [
       "<div>\n",
       "<style scoped>\n",
       "    .dataframe tbody tr th:only-of-type {\n",
       "        vertical-align: middle;\n",
       "    }\n",
       "\n",
       "    .dataframe tbody tr th {\n",
       "        vertical-align: top;\n",
       "    }\n",
       "\n",
       "    .dataframe thead th {\n",
       "        text-align: right;\n",
       "    }\n",
       "</style>\n",
       "<table border=\"1\" class=\"dataframe\">\n",
       "  <thead>\n",
       "    <tr style=\"text-align: right;\">\n",
       "      <th></th>\n",
       "      <th>cluster</th>\n",
       "      <th>count</th>\n",
       "      <th>min</th>\n",
       "      <th>max</th>\n",
       "      <th>mean</th>\n",
       "      <th>sum</th>\n",
       "      <th>categ_0</th>\n",
       "      <th>categ_1</th>\n",
       "      <th>categ_2</th>\n",
       "      <th>categ_3</th>\n",
       "      <th>categ_4</th>\n",
       "      <th>LastPurchase</th>\n",
       "      <th>FirstPurchase</th>\n",
       "      <th>size</th>\n",
       "    </tr>\n",
       "  </thead>\n",
       "  <tbody>\n",
       "    <tr>\n",
       "      <th>0</th>\n",
       "      <td>6.0</td>\n",
       "      <td>2.670423</td>\n",
       "      <td>200.800817</td>\n",
       "      <td>364.292535</td>\n",
       "      <td>269.508333</td>\n",
       "      <td>897.865268</td>\n",
       "      <td>51.067425</td>\n",
       "      <td>13.579462</td>\n",
       "      <td>13.563776</td>\n",
       "      <td>7.441845</td>\n",
       "      <td>14.375850</td>\n",
       "      <td>101.045070</td>\n",
       "      <td>190.853521</td>\n",
       "      <td>355</td>\n",
       "    </tr>\n",
       "    <tr>\n",
       "      <th>1</th>\n",
       "      <td>4.0</td>\n",
       "      <td>3.415335</td>\n",
       "      <td>194.255399</td>\n",
       "      <td>419.584952</td>\n",
       "      <td>297.118932</td>\n",
       "      <td>1165.155463</td>\n",
       "      <td>7.287064</td>\n",
       "      <td>63.306308</td>\n",
       "      <td>13.559224</td>\n",
       "      <td>6.773214</td>\n",
       "      <td>9.074191</td>\n",
       "      <td>104.801917</td>\n",
       "      <td>222.763578</td>\n",
       "      <td>313</td>\n",
       "    </tr>\n",
       "    <tr>\n",
       "      <th>2</th>\n",
       "      <td>5.0</td>\n",
       "      <td>2.730570</td>\n",
       "      <td>201.354456</td>\n",
       "      <td>338.417047</td>\n",
       "      <td>265.159327</td>\n",
       "      <td>758.323870</td>\n",
       "      <td>8.694561</td>\n",
       "      <td>14.116507</td>\n",
       "      <td>55.332447</td>\n",
       "      <td>12.813274</td>\n",
       "      <td>9.055956</td>\n",
       "      <td>108.815199</td>\n",
       "      <td>201.310881</td>\n",
       "      <td>579</td>\n",
       "    </tr>\n",
       "    <tr>\n",
       "      <th>3</th>\n",
       "      <td>8.0</td>\n",
       "      <td>2.566298</td>\n",
       "      <td>184.150801</td>\n",
       "      <td>324.742431</td>\n",
       "      <td>242.992252</td>\n",
       "      <td>699.678867</td>\n",
       "      <td>7.549265</td>\n",
       "      <td>12.573494</td>\n",
       "      <td>20.896481</td>\n",
       "      <td>50.747698</td>\n",
       "      <td>8.234142</td>\n",
       "      <td>105.044199</td>\n",
       "      <td>194.317680</td>\n",
       "      <td>362</td>\n",
       "    </tr>\n",
       "    <tr>\n",
       "      <th>4</th>\n",
       "      <td>1.0</td>\n",
       "      <td>3.193548</td>\n",
       "      <td>202.773329</td>\n",
       "      <td>371.284295</td>\n",
       "      <td>273.149367</td>\n",
       "      <td>929.210749</td>\n",
       "      <td>11.762312</td>\n",
       "      <td>11.247755</td>\n",
       "      <td>11.678947</td>\n",
       "      <td>5.219001</td>\n",
       "      <td>60.101736</td>\n",
       "      <td>131.448217</td>\n",
       "      <td>232.415959</td>\n",
       "      <td>589</td>\n",
       "    </tr>\n",
       "  </tbody>\n",
       "</table>\n",
       "</div>"
      ],
      "text/plain": [
       "   cluster     count         min         max        mean          sum  \\\n",
       "0      6.0  2.670423  200.800817  364.292535  269.508333   897.865268   \n",
       "1      4.0  3.415335  194.255399  419.584952  297.118932  1165.155463   \n",
       "2      5.0  2.730570  201.354456  338.417047  265.159327   758.323870   \n",
       "3      8.0  2.566298  184.150801  324.742431  242.992252   699.678867   \n",
       "4      1.0  3.193548  202.773329  371.284295  273.149367   929.210749   \n",
       "\n",
       "     categ_0    categ_1    categ_2    categ_3    categ_4  LastPurchase  \\\n",
       "0  51.067425  13.579462  13.563776   7.441845  14.375850    101.045070   \n",
       "1   7.287064  63.306308  13.559224   6.773214   9.074191    104.801917   \n",
       "2   8.694561  14.116507  55.332447  12.813274   9.055956    108.815199   \n",
       "3   7.549265  12.573494  20.896481  50.747698   8.234142    105.044199   \n",
       "4  11.762312  11.247755  11.678947   5.219001  60.101736    131.448217   \n",
       "\n",
       "   FirstPurchase  size  \n",
       "0     190.853521   355  \n",
       "1     222.763578   313  \n",
       "2     201.310881   579  \n",
       "3     194.317680   362  \n",
       "4     232.415959   589  "
      ]
     },
     "execution_count": 106,
     "metadata": {},
     "output_type": "execute_result"
    }
   ],
   "source": [
    "# Create an empty list to store cluster indices\n",
    "liste_index = []\n",
    "\n",
    "# Iterate through the first 5 categories\n",
    "for i in range(5):\n",
    "    # Generate the column name for the current category\n",
    "    column = 'categ_{}'.format(i)\n",
    "    \n",
    "    # Find the index value of the first row where the value in the category column is greater than 45\n",
    "    liste_index.append(merged_df[merged_df[column] > 45].index.values[0])\n",
    "\n",
    "# Duplicate the list for reordering\n",
    "liste_index_reordered = liste_index\n",
    "\n",
    "# Extend the reordered list with indices that are not in the original list\n",
    "liste_index_reordered += [s for s in merged_df.index if s not in liste_index]\n",
    "\n",
    "# Reorder the merged DataFrame based on the reordered list of indices\n",
    "merged_df = merged_df.reindex(index=liste_index_reordered)\n",
    "\n",
    "# Reset the index and drop the old index column\n",
    "merged_df = merged_df.reset_index(drop=False)\n",
    "\n",
    "# Display the first few rows of the reordered DataFrame\n",
    "merged_df.head()"
   ]
  },
  {
   "cell_type": "markdown",
   "metadata": {},
   "source": [
    "##### Saving the selected customer dataframe and above dataframe to csv so that we do not need to do all this again :"
   ]
  },
  {
   "cell_type": "code",
   "execution_count": 109,
   "metadata": {},
   "outputs": [],
   "source": [
    "selected_customers.to_csv(\"selected_customers.csv\")\n",
    "merged_df.to_csv(\"merged_df.csv\")"
   ]
  }
 ],
 "metadata": {
  "kernelspec": {
   "display_name": "Python 3",
   "language": "python",
   "name": "python3"
  },
  "language_info": {
   "codemirror_mode": {
    "name": "ipython",
    "version": 3
   },
   "file_extension": ".py",
   "mimetype": "text/x-python",
   "name": "python",
   "nbconvert_exporter": "python",
   "pygments_lexer": "ipython3",
   "version": "3.9.7"
  }
 },
 "nbformat": 4,
 "nbformat_minor": 2
}
